{
 "cells": [
  {
   "cell_type": "markdown",
   "metadata": {
    "slideshow": {
     "slide_type": "slide"
    }
   },
   "source": [
    "# FKLearn Tutorial: \n",
    "\n",
    "* <font size=\"4\"> FKlearn is nubank's functional library for Machine Learning (https://github.com/nubank/fklearn) </font>\n",
    "\n",
    "<img src=\"imgs/fklearn-github.png\">\n",
    "\n",
    "* <font size=\"4\"> It was created with the idea of **scaling machine learning** through the company by standardizing model development and implementing an easy interface to allow all users to develop the best practices on Machine Learning </font>\n",
    "\n",
    "\n",
    "* <font size=\"4\"> Currently powering more than **30 models in production** </font>\n",
    "\n",
    "\n",
    "* <font size=\"4\"> FKLearn was created having **4 principles** that guided it's development: </font>\n",
    "\n",
    "<img src=\"imgs/fklearn-principles.png\">\n"
   ]
  },
  {
   "cell_type": "markdown",
   "metadata": {
    "slideshow": {
     "slide_type": "slide"
    }
   },
   "source": [
    "# Input Analysis"
   ]
  },
  {
   "cell_type": "markdown",
   "metadata": {
    "slideshow": {
     "slide_type": "skip"
    }
   },
   "source": [
    "## Imports"
   ]
  },
  {
   "cell_type": "code",
   "execution_count": 1,
   "metadata": {
    "ExecuteTime": {
     "end_time": "2019-07-05T15:54:39.130083Z",
     "start_time": "2019-07-05T15:54:36.969088Z"
    },
    "slideshow": {
     "slide_type": "skip"
    }
   },
   "outputs": [],
   "source": [
    "import pandas as pd\n",
    "import numpy as np\n",
    "from matplotlib import pyplot as plt\n",
    "import seaborn as sns\n",
    "import matplotlib\n",
    "sns.set_style(\"whitegrid\")\n",
    "sns.set_palette(\"husl\")\n",
    "\n",
    "import warnings\n",
    "warnings.filterwarnings('ignore')"
   ]
  },
  {
   "cell_type": "markdown",
   "metadata": {
    "slideshow": {
     "slide_type": "slide"
    }
   },
   "source": [
    "##  Input Dataset\n",
    "\n",
    "* <font size=\"4\"> This dataset was created with simulated data about users **spend behavior on Credit Card** </font>\n",
    "\n",
    "* <font size=\"4\"> The model target is the average spend of the next 2 months and we created several features that are related to the target </font>\n"
   ]
  },
  {
   "cell_type": "code",
   "execution_count": 3,
   "metadata": {
    "ExecuteTime": {
     "end_time": "2019-07-05T15:58:00.052942Z",
     "start_time": "2019-07-05T15:57:59.241439Z"
    },
    "slideshow": {
     "slide_type": "fragment"
    }
   },
   "outputs": [],
   "source": [
    "# Generate this dataset using the FKLearn Tutorial Dataset.ipynb notebook\n",
    "from common_models_storage import load, save, load_dataframe\n",
    "df = load(\"fklearn-tutorial-input-dataset-v2.csv\")"
   ]
  },
  {
   "cell_type": "code",
   "execution_count": 4,
   "metadata": {
    "ExecuteTime": {
     "end_time": "2019-07-05T15:58:02.979871Z",
     "start_time": "2019-07-05T15:58:02.944489Z"
    },
    "slideshow": {
     "slide_type": "skip"
    }
   },
   "outputs": [],
   "source": [
    "df['month_date'] = pd.to_datetime(df.month_date)"
   ]
  },
  {
   "cell_type": "code",
   "execution_count": 5,
   "metadata": {
    "ExecuteTime": {
     "end_time": "2019-07-05T15:58:03.836004Z",
     "start_time": "2019-07-05T15:58:03.809730Z"
    },
    "slideshow": {
     "slide_type": "fragment"
    }
   },
   "outputs": [
    {
     "data": {
      "text/html": [
       "<div>\n",
       "<style scoped>\n",
       "    .dataframe tbody tr th:only-of-type {\n",
       "        vertical-align: middle;\n",
       "    }\n",
       "\n",
       "    .dataframe tbody tr th {\n",
       "        vertical-align: top;\n",
       "    }\n",
       "\n",
       "    .dataframe thead th {\n",
       "        text-align: right;\n",
       "    }\n",
       "</style>\n",
       "<table border=\"1\" class=\"dataframe\">\n",
       "  <thead>\n",
       "    <tr style=\"text-align: right;\">\n",
       "      <th></th>\n",
       "      <th>id</th>\n",
       "      <th>month</th>\n",
       "      <th>income</th>\n",
       "      <th>created_at</th>\n",
       "      <th>phone_type</th>\n",
       "      <th>bureau_score</th>\n",
       "      <th>spend_desire</th>\n",
       "      <th>random_noise</th>\n",
       "      <th>monthly_spend</th>\n",
       "      <th>month_date</th>\n",
       "      <th>avg_last_2_months_spend</th>\n",
       "      <th>target</th>\n",
       "    </tr>\n",
       "  </thead>\n",
       "  <tbody>\n",
       "    <tr>\n",
       "      <th>0</th>\n",
       "      <td>0</td>\n",
       "      <td>11</td>\n",
       "      <td>2662.663801</td>\n",
       "      <td>2017-11-24</td>\n",
       "      <td>lg</td>\n",
       "      <td>NaN</td>\n",
       "      <td>933.8735</td>\n",
       "      <td>1139.988267</td>\n",
       "      <td>3044.984797</td>\n",
       "      <td>2017-12-08</td>\n",
       "      <td>NaN</td>\n",
       "      <td>2889.845310</td>\n",
       "    </tr>\n",
       "    <tr>\n",
       "      <th>1</th>\n",
       "      <td>0</td>\n",
       "      <td>12</td>\n",
       "      <td>2662.663801</td>\n",
       "      <td>2017-11-24</td>\n",
       "      <td>lg</td>\n",
       "      <td>259.050372</td>\n",
       "      <td>933.8735</td>\n",
       "      <td>949.164731</td>\n",
       "      <td>2911.910942</td>\n",
       "      <td>2018-01-08</td>\n",
       "      <td>2978.447870</td>\n",
       "      <td>3013.920100</td>\n",
       "    </tr>\n",
       "    <tr>\n",
       "      <th>2</th>\n",
       "      <td>0</td>\n",
       "      <td>13</td>\n",
       "      <td>2662.663801</td>\n",
       "      <td>2017-11-24</td>\n",
       "      <td>lg</td>\n",
       "      <td>295.523138</td>\n",
       "      <td>933.8735</td>\n",
       "      <td>829.196293</td>\n",
       "      <td>2867.779678</td>\n",
       "      <td>2018-02-08</td>\n",
       "      <td>2889.845310</td>\n",
       "      <td>3290.401158</td>\n",
       "    </tr>\n",
       "    <tr>\n",
       "      <th>3</th>\n",
       "      <td>0</td>\n",
       "      <td>14</td>\n",
       "      <td>2662.663801</td>\n",
       "      <td>2017-11-24</td>\n",
       "      <td>lg</td>\n",
       "      <td>260.729691</td>\n",
       "      <td>933.8735</td>\n",
       "      <td>1001.109359</td>\n",
       "      <td>3160.060523</td>\n",
       "      <td>2018-03-11</td>\n",
       "      <td>3013.920100</td>\n",
       "      <td>2952.377721</td>\n",
       "    </tr>\n",
       "    <tr>\n",
       "      <th>4</th>\n",
       "      <td>0</td>\n",
       "      <td>15</td>\n",
       "      <td>2662.663801</td>\n",
       "      <td>2017-11-24</td>\n",
       "      <td>lg</td>\n",
       "      <td>396.889624</td>\n",
       "      <td>933.8735</td>\n",
       "      <td>997.938315</td>\n",
       "      <td>3420.741792</td>\n",
       "      <td>2018-04-11</td>\n",
       "      <td>3290.401158</td>\n",
       "      <td>2469.308259</td>\n",
       "    </tr>\n",
       "  </tbody>\n",
       "</table>\n",
       "</div>"
      ],
      "text/plain": [
       "   id  month       income  created_at phone_type  bureau_score  spend_desire  \\\n",
       "0   0     11  2662.663801  2017-11-24         lg           NaN      933.8735   \n",
       "1   0     12  2662.663801  2017-11-24         lg    259.050372      933.8735   \n",
       "2   0     13  2662.663801  2017-11-24         lg    295.523138      933.8735   \n",
       "3   0     14  2662.663801  2017-11-24         lg    260.729691      933.8735   \n",
       "4   0     15  2662.663801  2017-11-24         lg    396.889624      933.8735   \n",
       "\n",
       "   random_noise  monthly_spend month_date  avg_last_2_months_spend  \\\n",
       "0   1139.988267    3044.984797 2017-12-08                      NaN   \n",
       "1    949.164731    2911.910942 2018-01-08              2978.447870   \n",
       "2    829.196293    2867.779678 2018-02-08              2889.845310   \n",
       "3   1001.109359    3160.060523 2018-03-11              3013.920100   \n",
       "4    997.938315    3420.741792 2018-04-11              3290.401158   \n",
       "\n",
       "        target  \n",
       "0  2889.845310  \n",
       "1  3013.920100  \n",
       "2  3290.401158  \n",
       "3  2952.377721  \n",
       "4  2469.308259  "
      ]
     },
     "execution_count": 5,
     "metadata": {},
     "output_type": "execute_result"
    }
   ],
   "source": [
    "df.head()"
   ]
  },
  {
   "cell_type": "code",
   "execution_count": 5,
   "metadata": {
    "ExecuteTime": {
     "end_time": "2019-06-26T14:22:19.172484Z",
     "start_time": "2019-06-26T14:22:19.087702Z"
    },
    "slideshow": {
     "slide_type": "slide"
    }
   },
   "outputs": [
    {
     "data": {
      "text/html": [
       "<div>\n",
       "<style scoped>\n",
       "    .dataframe tbody tr th:only-of-type {\n",
       "        vertical-align: middle;\n",
       "    }\n",
       "\n",
       "    .dataframe tbody tr th {\n",
       "        vertical-align: top;\n",
       "    }\n",
       "\n",
       "    .dataframe thead th {\n",
       "        text-align: right;\n",
       "    }\n",
       "</style>\n",
       "<table border=\"1\" class=\"dataframe\">\n",
       "  <thead>\n",
       "    <tr style=\"text-align: right;\">\n",
       "      <th></th>\n",
       "      <th>count</th>\n",
       "      <th>mean</th>\n",
       "      <th>std</th>\n",
       "      <th>min</th>\n",
       "      <th>25%</th>\n",
       "      <th>50%</th>\n",
       "      <th>75%</th>\n",
       "      <th>max</th>\n",
       "    </tr>\n",
       "  </thead>\n",
       "  <tbody>\n",
       "    <tr>\n",
       "      <th>id</th>\n",
       "      <td>119957.0</td>\n",
       "      <td>5016.991097</td>\n",
       "      <td>2.901412e+03</td>\n",
       "      <td>0.000000</td>\n",
       "      <td>2503.000000</td>\n",
       "      <td>5021.000000</td>\n",
       "      <td>7543.000000</td>\n",
       "      <td>9.999000e+03</td>\n",
       "    </tr>\n",
       "    <tr>\n",
       "      <th>month</th>\n",
       "      <td>119957.0</td>\n",
       "      <td>15.675976</td>\n",
       "      <td>5.532927e+00</td>\n",
       "      <td>1.000000</td>\n",
       "      <td>12.000000</td>\n",
       "      <td>17.000000</td>\n",
       "      <td>20.000000</td>\n",
       "      <td>2.300000e+01</td>\n",
       "    </tr>\n",
       "    <tr>\n",
       "      <th>income</th>\n",
       "      <td>119957.0</td>\n",
       "      <td>501378.284221</td>\n",
       "      <td>2.171320e+06</td>\n",
       "      <td>306.968330</td>\n",
       "      <td>3755.727727</td>\n",
       "      <td>5158.625070</td>\n",
       "      <td>6543.814966</td>\n",
       "      <td>9.999999e+06</td>\n",
       "    </tr>\n",
       "    <tr>\n",
       "      <th>bureau_score</th>\n",
       "      <td>108001.0</td>\n",
       "      <td>295.988318</td>\n",
       "      <td>1.350784e+02</td>\n",
       "      <td>0.008188</td>\n",
       "      <td>198.412670</td>\n",
       "      <td>292.160314</td>\n",
       "      <td>389.080271</td>\n",
       "      <td>9.970357e+02</td>\n",
       "    </tr>\n",
       "    <tr>\n",
       "      <th>spend_desire</th>\n",
       "      <td>119957.0</td>\n",
       "      <td>501.435254</td>\n",
       "      <td>1.992725e+02</td>\n",
       "      <td>-307.917070</td>\n",
       "      <td>367.085443</td>\n",
       "      <td>503.522506</td>\n",
       "      <td>634.975819</td>\n",
       "      <td>1.317540e+03</td>\n",
       "    </tr>\n",
       "    <tr>\n",
       "      <th>random_noise</th>\n",
       "      <td>119957.0</td>\n",
       "      <td>999.923887</td>\n",
       "      <td>9.988079e+01</td>\n",
       "      <td>581.007701</td>\n",
       "      <td>932.733470</td>\n",
       "      <td>1000.031756</td>\n",
       "      <td>1067.229272</td>\n",
       "      <td>1.435760e+03</td>\n",
       "    </tr>\n",
       "    <tr>\n",
       "      <th>monthly_spend</th>\n",
       "      <td>119957.0</td>\n",
       "      <td>2370.049319</td>\n",
       "      <td>6.978182e+02</td>\n",
       "      <td>46.457673</td>\n",
       "      <td>1917.395399</td>\n",
       "      <td>2273.422882</td>\n",
       "      <td>2686.451042</td>\n",
       "      <td>7.258974e+03</td>\n",
       "    </tr>\n",
       "    <tr>\n",
       "      <th>avg_last_2_months_spend</th>\n",
       "      <td>109957.0</td>\n",
       "      <td>2368.832646</td>\n",
       "      <td>5.941751e+02</td>\n",
       "      <td>349.337941</td>\n",
       "      <td>1959.792389</td>\n",
       "      <td>2300.530968</td>\n",
       "      <td>2705.918691</td>\n",
       "      <td>5.993388e+03</td>\n",
       "    </tr>\n",
       "    <tr>\n",
       "      <th>target</th>\n",
       "      <td>100361.0</td>\n",
       "      <td>2363.797175</td>\n",
       "      <td>5.928560e+02</td>\n",
       "      <td>349.337941</td>\n",
       "      <td>1954.445075</td>\n",
       "      <td>2295.779251</td>\n",
       "      <td>2700.309099</td>\n",
       "      <td>5.993388e+03</td>\n",
       "    </tr>\n",
       "  </tbody>\n",
       "</table>\n",
       "</div>"
      ],
      "text/plain": [
       "                            count           mean           std         min  \\\n",
       "id                       119957.0    5016.991097  2.901412e+03    0.000000   \n",
       "month                    119957.0      15.675976  5.532927e+00    1.000000   \n",
       "income                   119957.0  501378.284221  2.171320e+06  306.968330   \n",
       "bureau_score             108001.0     295.988318  1.350784e+02    0.008188   \n",
       "spend_desire             119957.0     501.435254  1.992725e+02 -307.917070   \n",
       "random_noise             119957.0     999.923887  9.988079e+01  581.007701   \n",
       "monthly_spend            119957.0    2370.049319  6.978182e+02   46.457673   \n",
       "avg_last_2_months_spend  109957.0    2368.832646  5.941751e+02  349.337941   \n",
       "target                   100361.0    2363.797175  5.928560e+02  349.337941   \n",
       "\n",
       "                                 25%          50%          75%           max  \n",
       "id                       2503.000000  5021.000000  7543.000000  9.999000e+03  \n",
       "month                      12.000000    17.000000    20.000000  2.300000e+01  \n",
       "income                   3755.727727  5158.625070  6543.814966  9.999999e+06  \n",
       "bureau_score              198.412670   292.160314   389.080271  9.970357e+02  \n",
       "spend_desire              367.085443   503.522506   634.975819  1.317540e+03  \n",
       "random_noise              932.733470  1000.031756  1067.229272  1.435760e+03  \n",
       "monthly_spend            1917.395399  2273.422882  2686.451042  7.258974e+03  \n",
       "avg_last_2_months_spend  1959.792389  2300.530968  2705.918691  5.993388e+03  \n",
       "target                   1954.445075  2295.779251  2700.309099  5.993388e+03  "
      ]
     },
     "execution_count": 5,
     "metadata": {},
     "output_type": "execute_result"
    }
   ],
   "source": [
    "df.describe().T"
   ]
  },
  {
   "cell_type": "code",
   "execution_count": 6,
   "metadata": {
    "ExecuteTime": {
     "end_time": "2019-06-26T14:23:04.624858Z",
     "start_time": "2019-06-26T14:23:04.621908Z"
    },
    "slideshow": {
     "slide_type": "skip"
    }
   },
   "outputs": [],
   "source": [
    "features = [\"income\", \"bureau_score\", \"spend_desire\", \"random_noise\", \"monthly_spend\", \"avg_last_2_months_spend\"]"
   ]
  },
  {
   "cell_type": "code",
   "execution_count": 7,
   "metadata": {
    "ExecuteTime": {
     "end_time": "2019-06-26T14:23:05.308479Z",
     "start_time": "2019-06-26T14:23:05.271474Z"
    },
    "slideshow": {
     "slide_type": "slide"
    }
   },
   "outputs": [
    {
     "data": {
      "text/plain": [
       "id                             0\n",
       "month                          0\n",
       "income                         0\n",
       "created_at                     0\n",
       "phone_type                     0\n",
       "bureau_score               11956\n",
       "spend_desire                   0\n",
       "random_noise                   0\n",
       "monthly_spend                  0\n",
       "month_date                     0\n",
       "avg_last_2_months_spend    10000\n",
       "target                     19596\n",
       "dtype: int64"
      ]
     },
     "execution_count": 7,
     "metadata": {},
     "output_type": "execute_result"
    }
   ],
   "source": [
    "df.isna().sum()"
   ]
  },
  {
   "cell_type": "markdown",
   "metadata": {
    "slideshow": {
     "slide_type": "slide"
    }
   },
   "source": [
    "## Features and Target:\n",
    "* <font size=\"4\"> Month (M): Number of months since \"2017-01-01\" </font>\n",
    "* <font size=\"4\"> Income (I): N(5000, 2000) E [300, 20000] </font>\n",
    "* <font size=\"4\"> Phone Type (P): 4 categories </font>\n",
    "* <font size=\"4\"> Bureau Score (B): N(500 / (Month ** 0.1), 200) E [0, 1000] </font>\n",
    "* <font size=\"4\"> Spend Desire (W): N(500, 200) </font>\n",
    "* <font size=\"4\"> Random Noise (R): N(1000, 100) </font>\n",
    "* <font size=\"4\"> Monthly Spend: Max(0, (S * I + I ** 2 + P * W ** 2 + P * B + N(1, 0.3)) * N(2000, 1000)) </font>\n",
    "* <font size=\"4\"> Avg Last 2 Months Spend: (Spend(m) + Spend(m-1)) / 2 </font>\n",
    "* <font size=\"4\"> Target: (Spend(m + 1) + Spend(m + 2)) / 2 </font>"
   ]
  },
  {
   "cell_type": "code",
   "execution_count": 8,
   "metadata": {
    "ExecuteTime": {
     "end_time": "2019-06-26T14:23:27.671888Z",
     "start_time": "2019-06-26T14:23:27.517439Z"
    },
    "slideshow": {
     "slide_type": "slide"
    }
   },
   "outputs": [
    {
     "data": {
      "text/plain": [
       "Text(0.5, 1.0, 'Amount of customers by month')"
      ]
     },
     "execution_count": 8,
     "metadata": {},
     "output_type": "execute_result"
    },
    {
     "data": {
      "image/png": "[encoded data removed]",
      "text/plain": [
       "<Figure size 432x288 with 1 Axes>"
      ]
     },
     "metadata": {
      "needs_background": "light"
     },
     "output_type": "display_data"
    }
   ],
   "source": [
    "plt.plot(sorted(df.month.unique()), df.groupby(\"month\").agg({\"id\": \"count\"}))\n",
    "plt.title(\"Amount of customers by month\")"
   ]
  },
  {
   "cell_type": "code",
   "execution_count": 9,
   "metadata": {
    "ExecuteTime": {
     "end_time": "2019-06-26T14:23:32.722811Z",
     "start_time": "2019-06-26T14:23:32.100411Z"
    },
    "slideshow": {
     "slide_type": "slide"
    }
   },
   "outputs": [
    {
     "data": {
      "image/png": "[encoded data removed]",
      "text/plain": [
       "<Figure size 576x576 with 4 Axes>"
      ]
     },
     "metadata": {
      "needs_background": "light"
     },
     "output_type": "display_data"
    }
   ],
   "source": [
    "fig, axes = plt.subplots(2, 2, figsize=(8,8))\n",
    "axes[0, 0].hist(df.bureau_score, range(0, 1000, 50))\n",
    "axes[1, 0].hist(df.income, range(300, 20000, 500))\n",
    "axes[0, 1].hist(df.spend_desire)\n",
    "axes[1, 1].hist(df.monthly_spend, range(0, 10000, 500))\n",
    "\n",
    "titles = [\"bureau_histogram\", \"income_histogram\", \"spend_desire_histogram\", \"monthly_spend_histogram\"]\n",
    "axes[0, 0].set_title(titles[0])\n",
    "axes[1, 0].set_title(titles[1])\n",
    "axes[0, 1].set_title(titles[2])\n",
    "axes[1, 1].set_title(titles[3])\n",
    "plt.show()"
   ]
  },
  {
   "cell_type": "code",
   "execution_count": 10,
   "metadata": {
    "ExecuteTime": {
     "end_time": "2019-06-26T14:23:49.131766Z",
     "start_time": "2019-06-26T14:23:39.943878Z"
    },
    "slideshow": {
     "slide_type": "slide"
    }
   },
   "outputs": [
    {
     "data": {
      "image/png": "[encoded data removed]",
      "text/plain": [
       "<Figure size 720x720 with 4 Axes>"
      ]
     },
     "metadata": {
      "needs_background": "light"
     },
     "output_type": "display_data"
    }
   ],
   "source": [
    "fig, axes = plt.subplots(2, 2, figsize=(10,10))\n",
    "sns.pointplot(x=\"month\", y=\"bureau_score\", data=df, ax=axes[0, 0])\n",
    "sns.pointplot(x=\"month\", y=\"income\", data=df, ax=axes[1, 0])\n",
    "sns.pointplot(x=\"month\", y=\"spend_desire\", data=df, ax=axes[0, 1])\n",
    "sns.pointplot(x=\"month\", y=\"monthly_spend\", data=df, ax=axes[1, 1])\n",
    "plt.show()"
   ]
  },
  {
   "cell_type": "markdown",
   "metadata": {
    "slideshow": {
     "slide_type": "slide"
    }
   },
   "source": [
    "## Target Analysis"
   ]
  },
  {
   "cell_type": "code",
   "execution_count": 11,
   "metadata": {
    "ExecuteTime": {
     "end_time": "2019-06-26T14:23:58.983033Z",
     "start_time": "2019-06-26T14:23:58.950527Z"
    },
    "slideshow": {
     "slide_type": "fragment"
    }
   },
   "outputs": [
    {
     "data": {
      "text/html": [
       "<div>\n",
       "<style scoped>\n",
       "    .dataframe tbody tr th:only-of-type {\n",
       "        vertical-align: middle;\n",
       "    }\n",
       "\n",
       "    .dataframe tbody tr th {\n",
       "        vertical-align: top;\n",
       "    }\n",
       "\n",
       "    .dataframe thead th {\n",
       "        text-align: right;\n",
       "    }\n",
       "</style>\n",
       "<table border=\"1\" class=\"dataframe\">\n",
       "  <thead>\n",
       "    <tr style=\"text-align: right;\">\n",
       "      <th></th>\n",
       "      <th>null_count_by_month</th>\n",
       "    </tr>\n",
       "    <tr>\n",
       "      <th>month_date</th>\n",
       "      <th></th>\n",
       "    </tr>\n",
       "  </thead>\n",
       "  <tbody>\n",
       "    <tr>\n",
       "      <th>2017-02-01</th>\n",
       "      <td>0</td>\n",
       "    </tr>\n",
       "    <tr>\n",
       "      <th>2017-03-04</th>\n",
       "      <td>0</td>\n",
       "    </tr>\n",
       "    <tr>\n",
       "      <th>2017-04-04</th>\n",
       "      <td>0</td>\n",
       "    </tr>\n",
       "    <tr>\n",
       "      <th>2017-05-05</th>\n",
       "      <td>0</td>\n",
       "    </tr>\n",
       "    <tr>\n",
       "      <th>2017-06-05</th>\n",
       "      <td>0</td>\n",
       "    </tr>\n",
       "    <tr>\n",
       "      <th>2017-07-06</th>\n",
       "      <td>0</td>\n",
       "    </tr>\n",
       "    <tr>\n",
       "      <th>2017-08-06</th>\n",
       "      <td>0</td>\n",
       "    </tr>\n",
       "    <tr>\n",
       "      <th>2017-09-06</th>\n",
       "      <td>0</td>\n",
       "    </tr>\n",
       "    <tr>\n",
       "      <th>2017-10-07</th>\n",
       "      <td>0</td>\n",
       "    </tr>\n",
       "    <tr>\n",
       "      <th>2017-11-07</th>\n",
       "      <td>0</td>\n",
       "    </tr>\n",
       "    <tr>\n",
       "      <th>2017-12-08</th>\n",
       "      <td>0</td>\n",
       "    </tr>\n",
       "    <tr>\n",
       "      <th>2018-01-08</th>\n",
       "      <td>0</td>\n",
       "    </tr>\n",
       "    <tr>\n",
       "      <th>2018-02-08</th>\n",
       "      <td>0</td>\n",
       "    </tr>\n",
       "    <tr>\n",
       "      <th>2018-03-11</th>\n",
       "      <td>0</td>\n",
       "    </tr>\n",
       "    <tr>\n",
       "      <th>2018-04-11</th>\n",
       "      <td>0</td>\n",
       "    </tr>\n",
       "    <tr>\n",
       "      <th>2018-05-12</th>\n",
       "      <td>0</td>\n",
       "    </tr>\n",
       "    <tr>\n",
       "      <th>2018-06-12</th>\n",
       "      <td>0</td>\n",
       "    </tr>\n",
       "    <tr>\n",
       "      <th>2018-07-13</th>\n",
       "      <td>0</td>\n",
       "    </tr>\n",
       "    <tr>\n",
       "      <th>2018-08-13</th>\n",
       "      <td>0</td>\n",
       "    </tr>\n",
       "    <tr>\n",
       "      <th>2018-09-13</th>\n",
       "      <td>0</td>\n",
       "    </tr>\n",
       "    <tr>\n",
       "      <th>2018-10-14</th>\n",
       "      <td>0</td>\n",
       "    </tr>\n",
       "    <tr>\n",
       "      <th>2018-11-14</th>\n",
       "      <td>9596</td>\n",
       "    </tr>\n",
       "    <tr>\n",
       "      <th>2018-12-15</th>\n",
       "      <td>10000</td>\n",
       "    </tr>\n",
       "  </tbody>\n",
       "</table>\n",
       "</div>"
      ],
      "text/plain": [
       "            null_count_by_month\n",
       "month_date                     \n",
       "2017-02-01                    0\n",
       "2017-03-04                    0\n",
       "2017-04-04                    0\n",
       "2017-05-05                    0\n",
       "2017-06-05                    0\n",
       "2017-07-06                    0\n",
       "2017-08-06                    0\n",
       "2017-09-06                    0\n",
       "2017-10-07                    0\n",
       "2017-11-07                    0\n",
       "2017-12-08                    0\n",
       "2018-01-08                    0\n",
       "2018-02-08                    0\n",
       "2018-03-11                    0\n",
       "2018-04-11                    0\n",
       "2018-05-12                    0\n",
       "2018-06-12                    0\n",
       "2018-07-13                    0\n",
       "2018-08-13                    0\n",
       "2018-09-13                    0\n",
       "2018-10-14                    0\n",
       "2018-11-14                 9596\n",
       "2018-12-15                10000"
      ]
     },
     "execution_count": 11,
     "metadata": {},
     "output_type": "execute_result"
    }
   ],
   "source": [
    "pd.DataFrame(df.groupby(\"month_date\").apply(lambda x: x.target.isna().sum()), columns=[\"null_count_by_month\"])"
   ]
  },
  {
   "cell_type": "code",
   "execution_count": 12,
   "metadata": {
    "ExecuteTime": {
     "end_time": "2019-06-26T14:24:17.619843Z",
     "start_time": "2019-06-26T14:24:15.573626Z"
    },
    "slideshow": {
     "slide_type": "slide"
    }
   },
   "outputs": [
    {
     "data": {
      "text/plain": [
       "<matplotlib.axes._subplots.AxesSubplot at 0x109b88668>"
      ]
     },
     "execution_count": 12,
     "metadata": {},
     "output_type": "execute_result"
    },
    {
     "data": {
      "image/png": "[encoded data removed]",
      "text/plain": [
       "<Figure size 432x288 with 1 Axes>"
      ]
     },
     "metadata": {
      "needs_background": "light"
     },
     "output_type": "display_data"
    }
   ],
   "source": [
    "sns.pointplot(x=\"month\", y=\"target\", data=df)"
   ]
  },
  {
   "cell_type": "markdown",
   "metadata": {
    "slideshow": {
     "slide_type": "slide"
    }
   },
   "source": [
    "# Getting started with fklearn: Creating a simple model\n",
    "\n",
    "* <font size=\"4\"> FKlearn is focused on creating production ready models but is flexible to be used at research and learning tasks</font>\n",
    "\n",
    "\n",
    "* <font size=\"4\"> Tradional steps of training a model like: Train-Test Splitting, Training and Validating are all implemented on fklearn </font>"
   ]
  },
  {
   "cell_type": "markdown",
   "metadata": {
    "slideshow": {
     "slide_type": "slide"
    }
   },
   "source": [
    "## Spliting the dataset into train and holdout\n",
    "\n",
    "* <font size=\"4\"> On real problems we want to validate our model both in the same period and also on a different period to guarantee our model is a good predictor for the future </font>\n",
    "<img src=\"imgs/Splitting_Data.png\">"
   ]
  },
  {
   "cell_type": "code",
   "execution_count": 13,
   "metadata": {
    "ExecuteTime": {
     "end_time": "2019-06-26T14:25:44.132430Z",
     "start_time": "2019-06-26T14:25:44.090335Z"
    },
    "slideshow": {
     "slide_type": "slide"
    }
   },
   "outputs": [],
   "source": [
    "from fklearn.preprocessing.splitting import space_time_split_dataset\n",
    "\n",
    "train_set, intime_outspace_hdout, outime_inspace_hdout, outime_outspace_hdout = \\\n",
    "                                        space_time_split_dataset(df,\n",
    "                                                 train_start_date=\"2017-02-01\",\n",
    "                                                 train_end_date=\"2018-07-01\",\n",
    "                                                 holdout_end_date=\"2018-10-01\",\n",
    "                                                 split_seed=42,\n",
    "                                                 space_holdout_percentage=0.2,\n",
    "                                                 space_column=\"id\",\n",
    "                                                 time_column=\"month_date\")"
   ]
  },
  {
   "cell_type": "code",
   "execution_count": 14,
   "metadata": {
    "ExecuteTime": {
     "end_time": "2019-06-26T14:25:48.592199Z",
     "start_time": "2019-06-26T14:25:48.587944Z"
    },
    "slideshow": {
     "slide_type": "fragment"
    }
   },
   "outputs": [
    {
     "data": {
      "text/plain": [
       "((53392, 12), (12980, 12), (24834, 12), (4446, 12))"
      ]
     },
     "execution_count": 14,
     "metadata": {},
     "output_type": "execute_result"
    }
   ],
   "source": [
    "(train_set.shape, \n",
    " intime_outspace_hdout.shape, \n",
    " outime_inspace_hdout.shape,\n",
    " outime_outspace_hdout.shape)"
   ]
  },
  {
   "cell_type": "markdown",
   "metadata": {
    "slideshow": {
     "slide_type": "slide"
    }
   },
   "source": [
    "## Training:\n",
    "<font size=\"4\"> *On the training process we want:* </font>\n",
    "\n",
    "* <font size=\"4\">  **Cap features** that have unexpected values </font>\n",
    "\n",
    "\n",
    "* <font size=\"4\"> **Encode categorical features** </font>\n",
    "\n",
    "\n",
    "* <font size=\"4\">  **Fill missing values** </font>\n",
    "\n",
    "\n",
    "* <font size=\"4\">  **Train our model** </font>\n",
    "\n",
    "\n",
    "* <font size=\"4\"> We want to apply this **same transformations when scoring our model**, similarly to the fit and transform concept from sklearn </font>\n"
   ]
  },
  {
   "cell_type": "markdown",
   "metadata": {
    "ExecuteTime": {
     "end_time": "2019-04-24T16:17:39.071198Z",
     "start_time": "2019-04-24T16:17:39.067285Z"
    },
    "slideshow": {
     "slide_type": "slide"
    }
   },
   "source": [
    "\n",
    "<img src=\"imgs/Pipeline.png\">"
   ]
  },
  {
   "cell_type": "markdown",
   "metadata": {},
   "source": [
    "\n",
    "<img src=\"imgs/partial-functions.png\">"
   ]
  },
  {
   "cell_type": "code",
   "execution_count": 15,
   "metadata": {
    "ExecuteTime": {
     "end_time": "2019-06-26T14:28:03.882156Z",
     "start_time": "2019-06-26T14:28:03.448687Z"
    },
    "slideshow": {
     "slide_type": "slide"
    }
   },
   "outputs": [],
   "source": [
    "from fklearn.training.transformation import capper, prediction_ranger, label_categorizer\n",
    "from fklearn.training.imputation import imputer\n",
    "from fklearn.training.regression import lgbm_regression_learner\n",
    "capper_fn = capper(columns_to_cap=[\"income\"], precomputed_caps={\"income\": 20000.0})\n",
    "ranger_fn = prediction_ranger(prediction_min=0.0, prediction_max=100000.0, prediction_column=\"prediction\")\n",
    "label_fn = label_categorizer(columns_to_categorize=[\"phone_type\"])\n",
    "imputer_fn = imputer(columns_to_impute=[\"bureau_score\"], impute_strategy=\"median\")\n",
    "regression_fn = lgbm_regression_learner(features=features, target=\"target\", learning_rate=0.1, num_estimators=200)"
   ]
  },
  {
   "cell_type": "code",
   "execution_count": 16,
   "metadata": {
    "ExecuteTime": {
     "end_time": "2019-06-26T14:28:16.732032Z",
     "start_time": "2019-06-26T14:28:16.728015Z"
    },
    "slideshow": {
     "slide_type": "fragment"
    }
   },
   "outputs": [],
   "source": [
    "from fklearn.training.pipeline import build_pipeline\n",
    "train_fn = build_pipeline(label_fn, capper_fn, imputer_fn, regression_fn, ranger_fn)"
   ]
  },
  {
   "cell_type": "code",
   "execution_count": 17,
   "metadata": {
    "ExecuteTime": {
     "end_time": "2019-06-26T14:28:33.623253Z",
     "start_time": "2019-06-26T14:28:33.142434Z"
    },
    "slideshow": {
     "slide_type": "fragment"
    }
   },
   "outputs": [],
   "source": [
    "predict_fn, scored_train_set, train_logs = train_fn(train_set)"
   ]
  },
  {
   "cell_type": "code",
   "execution_count": 18,
   "metadata": {
    "ExecuteTime": {
     "end_time": "2019-06-26T14:29:02.599380Z",
     "start_time": "2019-06-26T14:29:02.583245Z"
    },
    "slideshow": {
     "slide_type": "slide"
    }
   },
   "outputs": [
    {
     "data": {
      "text/html": [
       "<div>\n",
       "<style scoped>\n",
       "    .dataframe tbody tr th:only-of-type {\n",
       "        vertical-align: middle;\n",
       "    }\n",
       "\n",
       "    .dataframe tbody tr th {\n",
       "        vertical-align: top;\n",
       "    }\n",
       "\n",
       "    .dataframe thead th {\n",
       "        text-align: right;\n",
       "    }\n",
       "</style>\n",
       "<table border=\"1\" class=\"dataframe\">\n",
       "  <thead>\n",
       "    <tr style=\"text-align: right;\">\n",
       "      <th></th>\n",
       "      <th>id</th>\n",
       "      <th>month</th>\n",
       "      <th>income</th>\n",
       "      <th>created_at</th>\n",
       "      <th>phone_type</th>\n",
       "      <th>bureau_score</th>\n",
       "      <th>spend_desire</th>\n",
       "      <th>random_noise</th>\n",
       "      <th>monthly_spend</th>\n",
       "      <th>month_date</th>\n",
       "      <th>avg_last_2_months_spend</th>\n",
       "      <th>target</th>\n",
       "      <th>prediction</th>\n",
       "    </tr>\n",
       "  </thead>\n",
       "  <tbody>\n",
       "    <tr>\n",
       "      <th>15</th>\n",
       "      <td>2</td>\n",
       "      <td>14</td>\n",
       "      <td>7822.243690</td>\n",
       "      <td>2018-02-19</td>\n",
       "      <td>0</td>\n",
       "      <td>310.265890</td>\n",
       "      <td>538.113849</td>\n",
       "      <td>934.655776</td>\n",
       "      <td>2215.079016</td>\n",
       "      <td>2018-03-11</td>\n",
       "      <td>NaN</td>\n",
       "      <td>1995.464010</td>\n",
       "      <td>2374.951923</td>\n",
       "    </tr>\n",
       "    <tr>\n",
       "      <th>16</th>\n",
       "      <td>2</td>\n",
       "      <td>15</td>\n",
       "      <td>7822.243690</td>\n",
       "      <td>2018-02-19</td>\n",
       "      <td>0</td>\n",
       "      <td>140.761112</td>\n",
       "      <td>538.113849</td>\n",
       "      <td>834.796711</td>\n",
       "      <td>1855.797279</td>\n",
       "      <td>2018-04-11</td>\n",
       "      <td>2035.438148</td>\n",
       "      <td>2206.623689</td>\n",
       "      <td>2254.115908</td>\n",
       "    </tr>\n",
       "    <tr>\n",
       "      <th>17</th>\n",
       "      <td>2</td>\n",
       "      <td>16</td>\n",
       "      <td>7822.243690</td>\n",
       "      <td>2018-02-19</td>\n",
       "      <td>0</td>\n",
       "      <td>191.061416</td>\n",
       "      <td>538.113849</td>\n",
       "      <td>999.442880</td>\n",
       "      <td>2135.130741</td>\n",
       "      <td>2018-05-12</td>\n",
       "      <td>1995.464010</td>\n",
       "      <td>2277.865772</td>\n",
       "      <td>2404.080536</td>\n",
       "    </tr>\n",
       "    <tr>\n",
       "      <th>18</th>\n",
       "      <td>2</td>\n",
       "      <td>17</td>\n",
       "      <td>7822.243690</td>\n",
       "      <td>2018-02-19</td>\n",
       "      <td>0</td>\n",
       "      <td>258.865637</td>\n",
       "      <td>538.113849</td>\n",
       "      <td>1006.651873</td>\n",
       "      <td>2278.116638</td>\n",
       "      <td>2018-06-12</td>\n",
       "      <td>2206.623689</td>\n",
       "      <td>2037.596258</td>\n",
       "      <td>2407.609984</td>\n",
       "    </tr>\n",
       "    <tr>\n",
       "      <th>25</th>\n",
       "      <td>3</td>\n",
       "      <td>14</td>\n",
       "      <td>6710.126044</td>\n",
       "      <td>2018-02-26</td>\n",
       "      <td>1</td>\n",
       "      <td>336.382952</td>\n",
       "      <td>219.718444</td>\n",
       "      <td>1086.431562</td>\n",
       "      <td>1576.195080</td>\n",
       "      <td>2018-03-11</td>\n",
       "      <td>NaN</td>\n",
       "      <td>1478.949899</td>\n",
       "      <td>1792.019095</td>\n",
       "    </tr>\n",
       "  </tbody>\n",
       "</table>\n",
       "</div>"
      ],
      "text/plain": [
       "    id  month       income  created_at  phone_type  bureau_score  \\\n",
       "15   2     14  7822.243690  2018-02-19           0    310.265890   \n",
       "16   2     15  7822.243690  2018-02-19           0    140.761112   \n",
       "17   2     16  7822.243690  2018-02-19           0    191.061416   \n",
       "18   2     17  7822.243690  2018-02-19           0    258.865637   \n",
       "25   3     14  6710.126044  2018-02-26           1    336.382952   \n",
       "\n",
       "    spend_desire  random_noise  monthly_spend month_date  \\\n",
       "15    538.113849    934.655776    2215.079016 2018-03-11   \n",
       "16    538.113849    834.796711    1855.797279 2018-04-11   \n",
       "17    538.113849    999.442880    2135.130741 2018-05-12   \n",
       "18    538.113849   1006.651873    2278.116638 2018-06-12   \n",
       "25    219.718444   1086.431562    1576.195080 2018-03-11   \n",
       "\n",
       "    avg_last_2_months_spend       target   prediction  \n",
       "15                      NaN  1995.464010  2374.951923  \n",
       "16              2035.438148  2206.623689  2254.115908  \n",
       "17              1995.464010  2277.865772  2404.080536  \n",
       "18              2206.623689  2037.596258  2407.609984  \n",
       "25                      NaN  1478.949899  1792.019095  "
      ]
     },
     "execution_count": 18,
     "metadata": {},
     "output_type": "execute_result"
    }
   ],
   "source": [
    "scored_train_set.head()"
   ]
  },
  {
   "cell_type": "code",
   "execution_count": 19,
   "metadata": {
    "ExecuteTime": {
     "end_time": "2019-06-26T14:29:06.729422Z",
     "start_time": "2019-06-26T14:29:06.719687Z"
    },
    "slideshow": {
     "slide_type": "slide"
    }
   },
   "outputs": [
    {
     "data": {
      "text/html": [
       "<div>\n",
       "<style scoped>\n",
       "    .dataframe tbody tr th:only-of-type {\n",
       "        vertical-align: middle;\n",
       "    }\n",
       "\n",
       "    .dataframe tbody tr th {\n",
       "        vertical-align: top;\n",
       "    }\n",
       "\n",
       "    .dataframe thead th {\n",
       "        text-align: right;\n",
       "    }\n",
       "</style>\n",
       "<table border=\"1\" class=\"dataframe\">\n",
       "  <thead>\n",
       "    <tr style=\"text-align: right;\">\n",
       "      <th></th>\n",
       "      <th>importance</th>\n",
       "    </tr>\n",
       "  </thead>\n",
       "  <tbody>\n",
       "    <tr>\n",
       "      <th>spend_desire</th>\n",
       "      <td>1151</td>\n",
       "    </tr>\n",
       "    <tr>\n",
       "      <th>avg_last_2_months_spend</th>\n",
       "      <td>1119</td>\n",
       "    </tr>\n",
       "    <tr>\n",
       "      <th>bureau_score</th>\n",
       "      <td>1000</td>\n",
       "    </tr>\n",
       "    <tr>\n",
       "      <th>income</th>\n",
       "      <td>960</td>\n",
       "    </tr>\n",
       "    <tr>\n",
       "      <th>monthly_spend</th>\n",
       "      <td>941</td>\n",
       "    </tr>\n",
       "    <tr>\n",
       "      <th>random_noise</th>\n",
       "      <td>829</td>\n",
       "    </tr>\n",
       "  </tbody>\n",
       "</table>\n",
       "</div>"
      ],
      "text/plain": [
       "                         importance\n",
       "spend_desire                   1151\n",
       "avg_last_2_months_spend        1119\n",
       "bureau_score                   1000\n",
       "income                          960\n",
       "monthly_spend                   941\n",
       "random_noise                    829"
      ]
     },
     "execution_count": 19,
     "metadata": {},
     "output_type": "execute_result"
    }
   ],
   "source": [
    "pd.options.display.max_rows = 120\n",
    "pd.DataFrame(train_logs['lgbm_regression_learner']['feature_importance'], \n",
    "             index=[\"importance\"]).T.sort_values(\"importance\", ascending=False)"
   ]
  },
  {
   "cell_type": "code",
   "execution_count": 20,
   "metadata": {
    "ExecuteTime": {
     "end_time": "2019-06-26T14:29:22.766478Z",
     "start_time": "2019-06-26T14:29:22.575042Z"
    },
    "slideshow": {
     "slide_type": "slide"
    }
   },
   "outputs": [],
   "source": [
    "scored_outime_outspace_hdout = predict_fn(outime_outspace_hdout)\n",
    "scored_intime_outspace_hdout = predict_fn(intime_outspace_hdout)\n",
    "scored_outime_inspace_hdout = predict_fn(outime_inspace_hdout)"
   ]
  },
  {
   "cell_type": "code",
   "execution_count": 21,
   "metadata": {
    "ExecuteTime": {
     "end_time": "2019-06-26T14:29:24.898190Z",
     "start_time": "2019-06-26T14:29:24.886124Z"
    },
    "slideshow": {
     "slide_type": "fragment"
    }
   },
   "outputs": [
    {
     "data": {
      "text/html": [
       "<div>\n",
       "<style scoped>\n",
       "    .dataframe tbody tr th:only-of-type {\n",
       "        vertical-align: middle;\n",
       "    }\n",
       "\n",
       "    .dataframe tbody tr th {\n",
       "        vertical-align: top;\n",
       "    }\n",
       "\n",
       "    .dataframe thead th {\n",
       "        text-align: right;\n",
       "    }\n",
       "</style>\n",
       "<table border=\"1\" class=\"dataframe\">\n",
       "  <thead>\n",
       "    <tr style=\"text-align: right;\">\n",
       "      <th></th>\n",
       "      <th>id</th>\n",
       "      <th>month_date</th>\n",
       "      <th>income</th>\n",
       "      <th>bureau_score</th>\n",
       "      <th>target</th>\n",
       "      <th>prediction</th>\n",
       "    </tr>\n",
       "  </thead>\n",
       "  <tbody>\n",
       "    <tr>\n",
       "      <th>7</th>\n",
       "      <td>0</td>\n",
       "      <td>2018-07-13</td>\n",
       "      <td>2662.663801</td>\n",
       "      <td>177.472256</td>\n",
       "      <td>2906.485533</td>\n",
       "      <td>2976.794567</td>\n",
       "    </tr>\n",
       "    <tr>\n",
       "      <th>8</th>\n",
       "      <td>0</td>\n",
       "      <td>2018-08-13</td>\n",
       "      <td>2662.663801</td>\n",
       "      <td>189.046991</td>\n",
       "      <td>2977.553448</td>\n",
       "      <td>2961.419820</td>\n",
       "    </tr>\n",
       "    <tr>\n",
       "      <th>9</th>\n",
       "      <td>0</td>\n",
       "      <td>2018-09-13</td>\n",
       "      <td>2662.663801</td>\n",
       "      <td>296.367569</td>\n",
       "      <td>2528.613270</td>\n",
       "      <td>3282.633386</td>\n",
       "    </tr>\n",
       "    <tr>\n",
       "      <th>144</th>\n",
       "      <td>10</td>\n",
       "      <td>2018-07-13</td>\n",
       "      <td>1349.493620</td>\n",
       "      <td>306.580025</td>\n",
       "      <td>3098.664522</td>\n",
       "      <td>3053.062374</td>\n",
       "    </tr>\n",
       "    <tr>\n",
       "      <th>145</th>\n",
       "      <td>10</td>\n",
       "      <td>2018-08-13</td>\n",
       "      <td>1349.493620</td>\n",
       "      <td>428.950779</td>\n",
       "      <td>2916.940408</td>\n",
       "      <td>3144.119154</td>\n",
       "    </tr>\n",
       "  </tbody>\n",
       "</table>\n",
       "</div>"
      ],
      "text/plain": [
       "     id month_date       income  bureau_score       target   prediction\n",
       "7     0 2018-07-13  2662.663801    177.472256  2906.485533  2976.794567\n",
       "8     0 2018-08-13  2662.663801    189.046991  2977.553448  2961.419820\n",
       "9     0 2018-09-13  2662.663801    296.367569  2528.613270  3282.633386\n",
       "144  10 2018-07-13  1349.493620    306.580025  3098.664522  3053.062374\n",
       "145  10 2018-08-13  1349.493620    428.950779  2916.940408  3144.119154"
      ]
     },
     "execution_count": 21,
     "metadata": {},
     "output_type": "execute_result"
    }
   ],
   "source": [
    "scored_outime_outspace_hdout[[\"id\", \"month_date\", \"income\", \"bureau_score\", \"target\", \"prediction\"]].head()"
   ]
  },
  {
   "cell_type": "markdown",
   "metadata": {
    "slideshow": {
     "slide_type": "slide"
    }
   },
   "source": [
    "## Evaluation:\n",
    "* <font size=\"4\"> We want to evaluate the performance of our model using multiple metrics for each dataframe (out_of_time, out_of_space, out_of_time_and_space) </font>\n",
    "\n",
    "\n",
    "<img src=\"imgs/EvalFn.png\">"
   ]
  },
  {
   "cell_type": "code",
   "execution_count": 22,
   "metadata": {
    "ExecuteTime": {
     "end_time": "2019-06-26T14:30:08.718106Z",
     "start_time": "2019-06-26T14:30:08.710514Z"
    },
    "slideshow": {
     "slide_type": "slide"
    }
   },
   "outputs": [],
   "source": [
    "from fklearn.validation.evaluators import r2_evaluator, spearman_evaluator, combined_evaluators"
   ]
  },
  {
   "cell_type": "code",
   "execution_count": 24,
   "metadata": {
    "ExecuteTime": {
     "end_time": "2019-06-26T14:30:38.944925Z",
     "start_time": "2019-06-26T14:30:38.941154Z"
    },
    "slideshow": {
     "slide_type": "fragment"
    }
   },
   "outputs": [],
   "source": [
    "r2_eval_fn = r2_evaluator(prediction_column=\"prediction\", target_column=\"target\")\n",
    "spearman_eval_fn = spearman_evaluator(prediction_column=\"prediction\", target_column=\"target\")\n",
    "eval_fn = combined_evaluators(evaluators=[r2_eval_fn, spearman_eval_fn])"
   ]
  },
  {
   "cell_type": "code",
   "execution_count": 25,
   "metadata": {
    "ExecuteTime": {
     "end_time": "2019-06-26T14:30:39.564929Z",
     "start_time": "2019-06-26T14:30:39.523413Z"
    },
    "slideshow": {
     "slide_type": "slide"
    }
   },
   "outputs": [],
   "source": [
    "outime_outspace_hdout_logs = eval_fn(scored_outime_outspace_hdout)\n",
    "intime_outspace_hdout_logs = eval_fn(scored_intime_outspace_hdout)\n",
    "outime_inspace_hdout_logs = eval_fn(scored_outime_inspace_hdout)"
   ]
  },
  {
   "cell_type": "code",
   "execution_count": 26,
   "metadata": {
    "ExecuteTime": {
     "end_time": "2019-06-26T14:30:43.215551Z",
     "start_time": "2019-06-26T14:30:43.211583Z"
    },
    "slideshow": {
     "slide_type": "fragment"
    }
   },
   "outputs": [
    {
     "data": {
      "text/plain": [
       "{'out_of_time': {'r2_evaluator__target': 0.591417722638987,\n",
       "  'spearman_evaluator__target': 0.7880957186161445},\n",
       " 'in_time': {'r2_evaluator__target': 0.585399762889559,\n",
       "  'spearman_evaluator__target': 0.7820687514832871},\n",
       " 'out_of_time_and_space': {'r2_evaluator__target': 0.5905616146728634,\n",
       "  'spearman_evaluator__target': 0.7883644953763941}}"
      ]
     },
     "execution_count": 26,
     "metadata": {},
     "output_type": "execute_result"
    }
   ],
   "source": [
    "{\"out_of_time\": outime_outspace_hdout_logs, \n",
    " \"in_time\": intime_outspace_hdout_logs,\n",
    "  \"out_of_time_and_space\": outime_inspace_hdout_logs}"
   ]
  },
  {
   "cell_type": "markdown",
   "metadata": {
    "slideshow": {
     "slide_type": "slide"
    }
   },
   "source": [
    "## Extractors\n",
    "* <font size=\"4\"> We want to transform this logs into dataframes that we can visualize better </font>\n",
    "\n",
    "<img src=\"imgs/Extractor.png\" style=\"width: 500px;\">"
   ]
  },
  {
   "cell_type": "code",
   "execution_count": 27,
   "metadata": {
    "ExecuteTime": {
     "end_time": "2019-06-26T14:31:13.881187Z",
     "start_time": "2019-06-26T14:31:13.876281Z"
    },
    "slideshow": {
     "slide_type": "slide"
    }
   },
   "outputs": [],
   "source": [
    "from fklearn.metrics.pd_extractors import evaluator_extractor, combined_evaluator_extractor, extract\n",
    "r2_extractor = evaluator_extractor(evaluator_name=\"r2_evaluator__target\")\n",
    "spearman_extractor = evaluator_extractor(evaluator_name=\"spearman_evaluator__target\")\n",
    "full_extractor = combined_evaluator_extractor(base_extractors=[r2_extractor, spearman_extractor])"
   ]
  },
  {
   "cell_type": "code",
   "execution_count": 28,
   "metadata": {
    "ExecuteTime": {
     "end_time": "2019-06-26T14:31:17.165157Z",
     "start_time": "2019-06-26T14:31:17.148374Z"
    },
    "slideshow": {
     "slide_type": "fragment"
    }
   },
   "outputs": [
    {
     "data": {
      "text/html": [
       "<div>\n",
       "<style scoped>\n",
       "    .dataframe tbody tr th:only-of-type {\n",
       "        vertical-align: middle;\n",
       "    }\n",
       "\n",
       "    .dataframe tbody tr th {\n",
       "        vertical-align: top;\n",
       "    }\n",
       "\n",
       "    .dataframe thead th {\n",
       "        text-align: right;\n",
       "    }\n",
       "</style>\n",
       "<table border=\"1\" class=\"dataframe\">\n",
       "  <thead>\n",
       "    <tr style=\"text-align: right;\">\n",
       "      <th></th>\n",
       "      <th>r2_evaluator__target</th>\n",
       "      <th>spearman_evaluator__target</th>\n",
       "      <th>part</th>\n",
       "    </tr>\n",
       "  </thead>\n",
       "  <tbody>\n",
       "    <tr>\n",
       "      <th>0</th>\n",
       "      <td>0.591418</td>\n",
       "      <td>0.788096</td>\n",
       "      <td>out_of_time</td>\n",
       "    </tr>\n",
       "    <tr>\n",
       "      <th>0</th>\n",
       "      <td>0.585400</td>\n",
       "      <td>0.782069</td>\n",
       "      <td>in_time_out_of_space</td>\n",
       "    </tr>\n",
       "    <tr>\n",
       "      <th>0</th>\n",
       "      <td>0.590562</td>\n",
       "      <td>0.788364</td>\n",
       "      <td>out_of_time_and_space</td>\n",
       "    </tr>\n",
       "  </tbody>\n",
       "</table>\n",
       "</div>"
      ],
      "text/plain": [
       "   r2_evaluator__target  spearman_evaluator__target                   part\n",
       "0              0.591418                    0.788096            out_of_time\n",
       "0              0.585400                    0.782069   in_time_out_of_space\n",
       "0              0.590562                    0.788364  out_of_time_and_space"
      ]
     },
     "execution_count": 28,
     "metadata": {},
     "output_type": "execute_result"
    }
   ],
   "source": [
    "pd.concat(\n",
    "    [full_extractor(outime_outspace_hdout_logs).assign(part=\"out_of_time\"),\n",
    "    full_extractor(intime_outspace_hdout_logs).assign(part=\"in_time_out_of_space\"),\n",
    "    full_extractor(outime_inspace_hdout_logs).assign(part=\"out_of_time_and_space\")])"
   ]
  },
  {
   "cell_type": "markdown",
   "metadata": {
    "slideshow": {
     "slide_type": "slide"
    }
   },
   "source": [
    "# Learning Curves:\n",
    "\n",
    "<img src=\"imgs/LearningCurves.png\">\n",
    "\n",
    "<font size=\"5\"> We can reuse our previously defined training function and evaluators! </font>\n"
   ]
  },
  {
   "cell_type": "markdown",
   "metadata": {
    "slideshow": {
     "slide_type": "slide"
    }
   },
   "source": [
    "## Could we improve if we had more data?? AKA Spatial Learning Curve\n",
    "\n",
    "* <font size=\"4\"> If we had more data we could use that for training and see how much the model improves </font>\n",
    "\n",
    "\n",
    "* <font size=\"4\"> To estimate that we can train with subsamples of the full training set and check how performance changes </font>\n"
   ]
  },
  {
   "cell_type": "markdown",
   "metadata": {
    "slideshow": {
     "slide_type": "slide"
    }
   },
   "source": [
    "<img src=\"imgs/SpatialLearningCurves.png\">"
   ]
  },
  {
   "cell_type": "markdown",
   "metadata": {
    "ExecuteTime": {
     "end_time": "2019-06-26T11:16:10.506298Z",
     "start_time": "2019-06-26T11:16:10.468783Z"
    }
   },
   "source": [
    "<img src=\"imgs/validation-explanation.png\">"
   ]
  },
  {
   "cell_type": "code",
   "execution_count": 29,
   "metadata": {
    "ExecuteTime": {
     "end_time": "2019-06-26T14:34:11.429602Z",
     "start_time": "2019-06-26T14:34:11.424004Z"
    },
    "slideshow": {
     "slide_type": "slide"
    }
   },
   "outputs": [],
   "source": [
    "from fklearn.validation.splitters import spatial_learning_curve_splitter\n",
    "\n",
    "split_fn = spatial_learning_curve_splitter(space_column=\"id\", \n",
    "                                           time_column=\"month_date\",\n",
    "                                           training_limit=\"2018-04-01\", \n",
    "                                           train_percentages=[0.1, 0.2, 0.4, 0.6, 0.8, 1.0])"
   ]
  },
  {
   "cell_type": "code",
   "execution_count": 30,
   "metadata": {
    "ExecuteTime": {
     "end_time": "2019-06-26T14:34:58.937724Z",
     "start_time": "2019-06-26T14:34:49.824544Z"
    },
    "slideshow": {
     "slide_type": "fragment"
    }
   },
   "outputs": [],
   "source": [
    "from fklearn.validation.validator import parallel_validator\n",
    "\n",
    "spatial_learning_curve_logs = parallel_validator(train_set, split_fn, train_fn, eval_fn, n_jobs=8)"
   ]
  },
  {
   "cell_type": "code",
   "execution_count": 31,
   "metadata": {
    "ExecuteTime": {
     "end_time": "2019-06-26T14:34:58.972547Z",
     "start_time": "2019-06-26T14:34:58.940140Z"
    },
    "scrolled": true,
    "slideshow": {
     "slide_type": "skip"
    }
   },
   "outputs": [
    {
     "data": {
      "text/plain": [
       "{'train_log': [{'label_categorizer': {'transformed_column': ['phone_type'],\n",
       "    'replace_unseen': nan,\n",
       "    'running_time': '0.060 s'},\n",
       "   'capper': {'caps': {'income': 20000.0},\n",
       "    'transformed_column': ['income'],\n",
       "    'precomputed_caps': {'income': 20000.0},\n",
       "    'running_time': '0.038 s'},\n",
       "   'imputer': {'impute_strategy': 'median',\n",
       "    'columns_to_impute': ['bureau_score'],\n",
       "    'training_proportion_of_nulls': {'bureau_score': 0.09683098591549295},\n",
       "    'statistics': array([331.45003247]),\n",
       "    'running_time': '0.033 s'},\n",
       "   'lgbm_regression_learner': {'features': ['income',\n",
       "     'bureau_score',\n",
       "     'spend_desire',\n",
       "     'random_noise',\n",
       "     'monthly_spend',\n",
       "     'avg_last_2_months_spend'],\n",
       "    'target': 'target',\n",
       "    'prediction_column': 'prediction',\n",
       "    'package': 'lightgbm',\n",
       "    'package_version': '2.2.3',\n",
       "    'parameters': {'eta': 0.1,\n",
       "     'objective': 'regression',\n",
       "     'num_estimators': 200},\n",
       "    'feature_importance': {'income': 949,\n",
       "     'bureau_score': 1014,\n",
       "     'spend_desire': 1022,\n",
       "     'random_noise': 877,\n",
       "     'monthly_spend': 874,\n",
       "     'avg_last_2_months_spend': 1264},\n",
       "    'training_samples': 5112,\n",
       "    'running_time': '7.914 s'},\n",
       "   'object': <lightgbm.basic.Booster at 0x1c24173d30>,\n",
       "   'prediction_ranger': {'prediction_min': 0.0,\n",
       "    'prediction_max': 100000.0,\n",
       "    'transformed_column': ['prediction']},\n",
       "   '__fkml__': {'pipeline': ['label_categorizer',\n",
       "     'capper',\n",
       "     'imputer',\n",
       "     'lgbm_regression_learner',\n",
       "     'prediction_ranger'],\n",
       "    'output_columns': ['id',\n",
       "     'month',\n",
       "     'income',\n",
       "     'created_at',\n",
       "     'phone_type',\n",
       "     'bureau_score',\n",
       "     'spend_desire',\n",
       "     'random_noise',\n",
       "     'monthly_spend',\n",
       "     'month_date',\n",
       "     'avg_last_2_months_spend',\n",
       "     'target',\n",
       "     'prediction'],\n",
       "    'features': ['id',\n",
       "     'month',\n",
       "     'income',\n",
       "     'created_at',\n",
       "     'phone_type',\n",
       "     'bureau_score',\n",
       "     'spend_desire',\n",
       "     'random_noise',\n",
       "     'monthly_spend',\n",
       "     'month_date',\n",
       "     'avg_last_2_months_spend',\n",
       "     'target'],\n",
       "    'learners': {'label_categorizer': {'fn': <function fklearn.training.transformation.label_categorizer.<locals>.p(new_df:pandas.core.frame.DataFrame) -> pandas.core.frame.DataFrame>,\n",
       "      'log': {'label_categorizer': {'transformed_column': ['phone_type'],\n",
       "        'replace_unseen': nan,\n",
       "        'running_time': '0.060 s'}}},\n",
       "     'capper': {'fn': <function fklearn.training.transformation.capper.<locals>.p(new_data_set:pandas.core.frame.DataFrame) -> pandas.core.frame.DataFrame>,\n",
       "      'log': {'capper': {'caps': {'income': 20000.0},\n",
       "        'transformed_column': ['income'],\n",
       "        'precomputed_caps': {'income': 20000.0},\n",
       "        'running_time': '0.038 s'}}},\n",
       "     'imputer': {'fn': <function fklearn.training.imputation.imputer.<locals>.p(new_data_set:pandas.core.frame.DataFrame) -> pandas.core.frame.DataFrame>,\n",
       "      'log': {'imputer': {'impute_strategy': 'median',\n",
       "        'columns_to_impute': ['bureau_score'],\n",
       "        'training_proportion_of_nulls': {'bureau_score': 0.09683098591549295},\n",
       "        'statistics': array([331.45003247]),\n",
       "        'running_time': '0.033 s'}}},\n",
       "     'lgbm_regression_learner': {'fn': <function fklearn.training.regression.lgbm_regression_learner.<locals>.p(new_df:pandas.core.frame.DataFrame, apply_shap:bool=False) -> pandas.core.frame.DataFrame>,\n",
       "      'log': {'lgbm_regression_learner': {'features': ['income',\n",
       "         'bureau_score',\n",
       "         'spend_desire',\n",
       "         'random_noise',\n",
       "         'monthly_spend',\n",
       "         'avg_last_2_months_spend'],\n",
       "        'target': 'target',\n",
       "        'prediction_column': 'prediction',\n",
       "        'package': 'lightgbm',\n",
       "        'package_version': '2.2.3',\n",
       "        'parameters': {'eta': 0.1,\n",
       "         'objective': 'regression',\n",
       "         'num_estimators': 200},\n",
       "        'feature_importance': {'income': 949,\n",
       "         'bureau_score': 1014,\n",
       "         'spend_desire': 1022,\n",
       "         'random_noise': 877,\n",
       "         'monthly_spend': 874,\n",
       "         'avg_last_2_months_spend': 1264},\n",
       "        'training_samples': 5112,\n",
       "        'running_time': '7.914 s'},\n",
       "       'object': <lightgbm.basic.Booster at 0x1c24173d30>}},\n",
       "     'prediction_ranger': {'fn': <function fklearn.training.transformation.prediction_ranger.<locals>.p(new_df:pandas.core.frame.DataFrame) -> pandas.core.frame.DataFrame>,\n",
       "      'log': {'prediction_ranger': {'prediction_min': 0.0,\n",
       "        'prediction_max': 100000.0,\n",
       "        'transformed_column': ['prediction']}}}}}},\n",
       "  {'label_categorizer': {'transformed_column': ['phone_type'],\n",
       "    'replace_unseen': nan,\n",
       "    'running_time': '0.041 s'},\n",
       "   'capper': {'caps': {'income': 20000.0},\n",
       "    'transformed_column': ['income'],\n",
       "    'precomputed_caps': {'income': 20000.0},\n",
       "    'running_time': '0.049 s'},\n",
       "   'imputer': {'impute_strategy': 'median',\n",
       "    'columns_to_impute': ['bureau_score'],\n",
       "    'training_proportion_of_nulls': {'bureau_score': 0.09953981592637055},\n",
       "    'statistics': array([331.22826887]),\n",
       "    'running_time': '0.026 s'},\n",
       "   'lgbm_regression_learner': {'features': ['income',\n",
       "     'bureau_score',\n",
       "     'spend_desire',\n",
       "     'random_noise',\n",
       "     'monthly_spend',\n",
       "     'avg_last_2_months_spend'],\n",
       "    'target': 'target',\n",
       "    'prediction_column': 'prediction',\n",
       "    'package': 'lightgbm',\n",
       "    'package_version': '2.2.3',\n",
       "    'parameters': {'eta': 0.1,\n",
       "     'objective': 'regression',\n",
       "     'num_estimators': 200},\n",
       "    'feature_importance': {'income': 947,\n",
       "     'bureau_score': 1069,\n",
       "     'spend_desire': 995,\n",
       "     'random_noise': 955,\n",
       "     'monthly_spend': 939,\n",
       "     'avg_last_2_months_spend': 1095},\n",
       "    'training_samples': 9996,\n",
       "    'running_time': '8.053 s'},\n",
       "   'object': <lightgbm.basic.Booster at 0x1c23b20ac8>,\n",
       "   'prediction_ranger': {'prediction_min': 0.0,\n",
       "    'prediction_max': 100000.0,\n",
       "    'transformed_column': ['prediction']},\n",
       "   '__fkml__': {'pipeline': ['label_categorizer',\n",
       "     'capper',\n",
       "     'imputer',\n",
       "     'lgbm_regression_learner',\n",
       "     'prediction_ranger'],\n",
       "    'output_columns': ['id',\n",
       "     'month',\n",
       "     'income',\n",
       "     'created_at',\n",
       "     'phone_type',\n",
       "     'bureau_score',\n",
       "     'spend_desire',\n",
       "     'random_noise',\n",
       "     'monthly_spend',\n",
       "     'month_date',\n",
       "     'avg_last_2_months_spend',\n",
       "     'target',\n",
       "     'prediction'],\n",
       "    'features': ['id',\n",
       "     'month',\n",
       "     'income',\n",
       "     'created_at',\n",
       "     'phone_type',\n",
       "     'bureau_score',\n",
       "     'spend_desire',\n",
       "     'random_noise',\n",
       "     'monthly_spend',\n",
       "     'month_date',\n",
       "     'avg_last_2_months_spend',\n",
       "     'target'],\n",
       "    'learners': {'label_categorizer': {'fn': <function fklearn.training.transformation.label_categorizer.<locals>.p(new_df:pandas.core.frame.DataFrame) -> pandas.core.frame.DataFrame>,\n",
       "      'log': {'label_categorizer': {'transformed_column': ['phone_type'],\n",
       "        'replace_unseen': nan,\n",
       "        'running_time': '0.041 s'}}},\n",
       "     'capper': {'fn': <function fklearn.training.transformation.capper.<locals>.p(new_data_set:pandas.core.frame.DataFrame) -> pandas.core.frame.DataFrame>,\n",
       "      'log': {'capper': {'caps': {'income': 20000.0},\n",
       "        'transformed_column': ['income'],\n",
       "        'precomputed_caps': {'income': 20000.0},\n",
       "        'running_time': '0.049 s'}}},\n",
       "     'imputer': {'fn': <function fklearn.training.imputation.imputer.<locals>.p(new_data_set:pandas.core.frame.DataFrame) -> pandas.core.frame.DataFrame>,\n",
       "      'log': {'imputer': {'impute_strategy': 'median',\n",
       "        'columns_to_impute': ['bureau_score'],\n",
       "        'training_proportion_of_nulls': {'bureau_score': 0.09953981592637055},\n",
       "        'statistics': array([331.22826887]),\n",
       "        'running_time': '0.026 s'}}},\n",
       "     'lgbm_regression_learner': {'fn': <function fklearn.training.regression.lgbm_regression_learner.<locals>.p(new_df:pandas.core.frame.DataFrame, apply_shap:bool=False) -> pandas.core.frame.DataFrame>,\n",
       "      'log': {'lgbm_regression_learner': {'features': ['income',\n",
       "         'bureau_score',\n",
       "         'spend_desire',\n",
       "         'random_noise',\n",
       "         'monthly_spend',\n",
       "         'avg_last_2_months_spend'],\n",
       "        'target': 'target',\n",
       "        'prediction_column': 'prediction',\n",
       "        'package': 'lightgbm',\n",
       "        'package_version': '2.2.3',\n",
       "        'parameters': {'eta': 0.1,\n",
       "         'objective': 'regression',\n",
       "         'num_estimators': 200},\n",
       "        'feature_importance': {'income': 947,\n",
       "         'bureau_score': 1069,\n",
       "         'spend_desire': 995,\n",
       "         'random_noise': 955,\n",
       "         'monthly_spend': 939,\n",
       "         'avg_last_2_months_spend': 1095},\n",
       "        'training_samples': 9996,\n",
       "        'running_time': '8.053 s'},\n",
       "       'object': <lightgbm.basic.Booster at 0x1c23b20ac8>}},\n",
       "     'prediction_ranger': {'fn': <function fklearn.training.transformation.prediction_ranger.<locals>.p(new_df:pandas.core.frame.DataFrame) -> pandas.core.frame.DataFrame>,\n",
       "      'log': {'prediction_ranger': {'prediction_min': 0.0,\n",
       "        'prediction_max': 100000.0,\n",
       "        'transformed_column': ['prediction']}}}}}},\n",
       "  {'label_categorizer': {'transformed_column': ['phone_type'],\n",
       "    'replace_unseen': nan,\n",
       "    'running_time': '0.030 s'},\n",
       "   'capper': {'caps': {'income': 20000.0},\n",
       "    'transformed_column': ['income'],\n",
       "    'precomputed_caps': {'income': 20000.0},\n",
       "    'running_time': '0.090 s'},\n",
       "   'imputer': {'impute_strategy': 'median',\n",
       "    'columns_to_impute': ['bureau_score'],\n",
       "    'training_proportion_of_nulls': {'bureau_score': 0.0993539197232538},\n",
       "    'statistics': array([326.17810127]),\n",
       "    'running_time': '0.085 s'},\n",
       "   'lgbm_regression_learner': {'features': ['income',\n",
       "     'bureau_score',\n",
       "     'spend_desire',\n",
       "     'random_noise',\n",
       "     'monthly_spend',\n",
       "     'avg_last_2_months_spend'],\n",
       "    'target': 'target',\n",
       "    'prediction_column': 'prediction',\n",
       "    'package': 'lightgbm',\n",
       "    'package_version': '2.2.3',\n",
       "    'parameters': {'eta': 0.1,\n",
       "     'objective': 'regression',\n",
       "     'num_estimators': 200},\n",
       "    'feature_importance': {'income': 976,\n",
       "     'bureau_score': 988,\n",
       "     'spend_desire': 1045,\n",
       "     'random_noise': 906,\n",
       "     'monthly_spend': 943,\n",
       "     'avg_last_2_months_spend': 1142},\n",
       "    'training_samples': 19657,\n",
       "    'running_time': '8.128 s'},\n",
       "   'object': <lightgbm.basic.Booster at 0x1c2417c208>,\n",
       "   'prediction_ranger': {'prediction_min': 0.0,\n",
       "    'prediction_max': 100000.0,\n",
       "    'transformed_column': ['prediction']},\n",
       "   '__fkml__': {'pipeline': ['label_categorizer',\n",
       "     'capper',\n",
       "     'imputer',\n",
       "     'lgbm_regression_learner',\n",
       "     'prediction_ranger'],\n",
       "    'output_columns': ['id',\n",
       "     'month',\n",
       "     'income',\n",
       "     'created_at',\n",
       "     'phone_type',\n",
       "     'bureau_score',\n",
       "     'spend_desire',\n",
       "     'random_noise',\n",
       "     'monthly_spend',\n",
       "     'month_date',\n",
       "     'avg_last_2_months_spend',\n",
       "     'target',\n",
       "     'prediction'],\n",
       "    'features': ['id',\n",
       "     'month',\n",
       "     'income',\n",
       "     'created_at',\n",
       "     'phone_type',\n",
       "     'bureau_score',\n",
       "     'spend_desire',\n",
       "     'random_noise',\n",
       "     'monthly_spend',\n",
       "     'month_date',\n",
       "     'avg_last_2_months_spend',\n",
       "     'target'],\n",
       "    'learners': {'label_categorizer': {'fn': <function fklearn.training.transformation.label_categorizer.<locals>.p(new_df:pandas.core.frame.DataFrame) -> pandas.core.frame.DataFrame>,\n",
       "      'log': {'label_categorizer': {'transformed_column': ['phone_type'],\n",
       "        'replace_unseen': nan,\n",
       "        'running_time': '0.030 s'}}},\n",
       "     'capper': {'fn': <function fklearn.training.transformation.capper.<locals>.p(new_data_set:pandas.core.frame.DataFrame) -> pandas.core.frame.DataFrame>,\n",
       "      'log': {'capper': {'caps': {'income': 20000.0},\n",
       "        'transformed_column': ['income'],\n",
       "        'precomputed_caps': {'income': 20000.0},\n",
       "        'running_time': '0.090 s'}}},\n",
       "     'imputer': {'fn': <function fklearn.training.imputation.imputer.<locals>.p(new_data_set:pandas.core.frame.DataFrame) -> pandas.core.frame.DataFrame>,\n",
       "      'log': {'imputer': {'impute_strategy': 'median',\n",
       "        'columns_to_impute': ['bureau_score'],\n",
       "        'training_proportion_of_nulls': {'bureau_score': 0.0993539197232538},\n",
       "        'statistics': array([326.17810127]),\n",
       "        'running_time': '0.085 s'}}},\n",
       "     'lgbm_regression_learner': {'fn': <function fklearn.training.regression.lgbm_regression_learner.<locals>.p(new_df:pandas.core.frame.DataFrame, apply_shap:bool=False) -> pandas.core.frame.DataFrame>,\n",
       "      'log': {'lgbm_regression_learner': {'features': ['income',\n",
       "         'bureau_score',\n",
       "         'spend_desire',\n",
       "         'random_noise',\n",
       "         'monthly_spend',\n",
       "         'avg_last_2_months_spend'],\n",
       "        'target': 'target',\n",
       "        'prediction_column': 'prediction',\n",
       "        'package': 'lightgbm',\n",
       "        'package_version': '2.2.3',\n",
       "        'parameters': {'eta': 0.1,\n",
       "         'objective': 'regression',\n",
       "         'num_estimators': 200},\n",
       "        'feature_importance': {'income': 976,\n",
       "         'bureau_score': 988,\n",
       "         'spend_desire': 1045,\n",
       "         'random_noise': 906,\n",
       "         'monthly_spend': 943,\n",
       "         'avg_last_2_months_spend': 1142},\n",
       "        'training_samples': 19657,\n",
       "        'running_time': '8.128 s'},\n",
       "       'object': <lightgbm.basic.Booster at 0x1c2417c208>}},\n",
       "     'prediction_ranger': {'fn': <function fklearn.training.transformation.prediction_ranger.<locals>.p(new_df:pandas.core.frame.DataFrame) -> pandas.core.frame.DataFrame>,\n",
       "      'log': {'prediction_ranger': {'prediction_min': 0.0,\n",
       "        'prediction_max': 100000.0,\n",
       "        'transformed_column': ['prediction']}}}}}},\n",
       "  {'label_categorizer': {'transformed_column': ['phone_type'],\n",
       "    'replace_unseen': nan,\n",
       "    'running_time': '0.091 s'},\n",
       "   'capper': {'caps': {'income': 20000.0},\n",
       "    'transformed_column': ['income'],\n",
       "    'precomputed_caps': {'income': 20000.0},\n",
       "    'running_time': '0.076 s'},\n",
       "   'imputer': {'impute_strategy': 'median',\n",
       "    'columns_to_impute': ['bureau_score'],\n",
       "    'training_proportion_of_nulls': {'bureau_score': 0.09880324832597236},\n",
       "    'statistics': array([324.10450103]),\n",
       "    'running_time': '0.032 s'},\n",
       "   'lgbm_regression_learner': {'features': ['income',\n",
       "     'bureau_score',\n",
       "     'spend_desire',\n",
       "     'random_noise',\n",
       "     'monthly_spend',\n",
       "     'avg_last_2_months_spend'],\n",
       "    'target': 'target',\n",
       "    'prediction_column': 'prediction',\n",
       "    'package': 'lightgbm',\n",
       "    'package_version': '2.2.3',\n",
       "    'parameters': {'eta': 0.1,\n",
       "     'objective': 'regression',\n",
       "     'num_estimators': 200},\n",
       "    'feature_importance': {'income': 995,\n",
       "     'bureau_score': 960,\n",
       "     'spend_desire': 990,\n",
       "     'random_noise': 962,\n",
       "     'monthly_spend': 983,\n",
       "     'avg_last_2_months_spend': 1110},\n",
       "    'training_samples': 28076,\n",
       "    'running_time': '8.230 s'},\n",
       "   'object': <lightgbm.basic.Booster at 0x1c2417c5c0>,\n",
       "   'prediction_ranger': {'prediction_min': 0.0,\n",
       "    'prediction_max': 100000.0,\n",
       "    'transformed_column': ['prediction']},\n",
       "   '__fkml__': {'pipeline': ['label_categorizer',\n",
       "     'capper',\n",
       "     'imputer',\n",
       "     'lgbm_regression_learner',\n",
       "     'prediction_ranger'],\n",
       "    'output_columns': ['id',\n",
       "     'month',\n",
       "     'income',\n",
       "     'created_at',\n",
       "     'phone_type',\n",
       "     'bureau_score',\n",
       "     'spend_desire',\n",
       "     'random_noise',\n",
       "     'monthly_spend',\n",
       "     'month_date',\n",
       "     'avg_last_2_months_spend',\n",
       "     'target',\n",
       "     'prediction'],\n",
       "    'features': ['id',\n",
       "     'month',\n",
       "     'income',\n",
       "     'created_at',\n",
       "     'phone_type',\n",
       "     'bureau_score',\n",
       "     'spend_desire',\n",
       "     'random_noise',\n",
       "     'monthly_spend',\n",
       "     'month_date',\n",
       "     'avg_last_2_months_spend',\n",
       "     'target'],\n",
       "    'learners': {'label_categorizer': {'fn': <function fklearn.training.transformation.label_categorizer.<locals>.p(new_df:pandas.core.frame.DataFrame) -> pandas.core.frame.DataFrame>,\n",
       "      'log': {'label_categorizer': {'transformed_column': ['phone_type'],\n",
       "        'replace_unseen': nan,\n",
       "        'running_time': '0.091 s'}}},\n",
       "     'capper': {'fn': <function fklearn.training.transformation.capper.<locals>.p(new_data_set:pandas.core.frame.DataFrame) -> pandas.core.frame.DataFrame>,\n",
       "      'log': {'capper': {'caps': {'income': 20000.0},\n",
       "        'transformed_column': ['income'],\n",
       "        'precomputed_caps': {'income': 20000.0},\n",
       "        'running_time': '0.076 s'}}},\n",
       "     'imputer': {'fn': <function fklearn.training.imputation.imputer.<locals>.p(new_data_set:pandas.core.frame.DataFrame) -> pandas.core.frame.DataFrame>,\n",
       "      'log': {'imputer': {'impute_strategy': 'median',\n",
       "        'columns_to_impute': ['bureau_score'],\n",
       "        'training_proportion_of_nulls': {'bureau_score': 0.09880324832597236},\n",
       "        'statistics': array([324.10450103]),\n",
       "        'running_time': '0.032 s'}}},\n",
       "     'lgbm_regression_learner': {'fn': <function fklearn.training.regression.lgbm_regression_learner.<locals>.p(new_df:pandas.core.frame.DataFrame, apply_shap:bool=False) -> pandas.core.frame.DataFrame>,\n",
       "      'log': {'lgbm_regression_learner': {'features': ['income',\n",
       "         'bureau_score',\n",
       "         'spend_desire',\n",
       "         'random_noise',\n",
       "         'monthly_spend',\n",
       "         'avg_last_2_months_spend'],\n",
       "        'target': 'target',\n",
       "        'prediction_column': 'prediction',\n",
       "        'package': 'lightgbm',\n",
       "        'package_version': '2.2.3',\n",
       "        'parameters': {'eta': 0.1,\n",
       "         'objective': 'regression',\n",
       "         'num_estimators': 200},\n",
       "        'feature_importance': {'income': 995,\n",
       "         'bureau_score': 960,\n",
       "         'spend_desire': 990,\n",
       "         'random_noise': 962,\n",
       "         'monthly_spend': 983,\n",
       "         'avg_last_2_months_spend': 1110},\n",
       "        'training_samples': 28076,\n",
       "        'running_time': '8.230 s'},\n",
       "       'object': <lightgbm.basic.Booster at 0x1c2417c5c0>}},\n",
       "     'prediction_ranger': {'fn': <function fklearn.training.transformation.prediction_ranger.<locals>.p(new_df:pandas.core.frame.DataFrame) -> pandas.core.frame.DataFrame>,\n",
       "      'log': {'prediction_ranger': {'prediction_min': 0.0,\n",
       "        'prediction_max': 100000.0,\n",
       "        'transformed_column': ['prediction']}}}}}},\n",
       "  {'label_categorizer': {'transformed_column': ['phone_type'],\n",
       "    'replace_unseen': nan,\n",
       "    'running_time': '0.066 s'},\n",
       "   'capper': {'caps': {'income': 20000.0},\n",
       "    'transformed_column': ['income'],\n",
       "    'precomputed_caps': {'income': 20000.0},\n",
       "    'running_time': '0.035 s'},\n",
       "   'imputer': {'impute_strategy': 'median',\n",
       "    'columns_to_impute': ['bureau_score'],\n",
       "    'training_proportion_of_nulls': {'bureau_score': 0.09963579604578564},\n",
       "    'statistics': array([323.25068625]),\n",
       "    'running_time': '0.083 s'},\n",
       "   'lgbm_regression_learner': {'features': ['income',\n",
       "     'bureau_score',\n",
       "     'spend_desire',\n",
       "     'random_noise',\n",
       "     'monthly_spend',\n",
       "     'avg_last_2_months_spend'],\n",
       "    'target': 'target',\n",
       "    'prediction_column': 'prediction',\n",
       "    'package': 'lightgbm',\n",
       "    'package_version': '2.2.3',\n",
       "    'parameters': {'eta': 0.1,\n",
       "     'objective': 'regression',\n",
       "     'num_estimators': 200},\n",
       "    'feature_importance': {'income': 1000,\n",
       "     'bureau_score': 937,\n",
       "     'spend_desire': 1050,\n",
       "     'random_noise': 901,\n",
       "     'monthly_spend': 980,\n",
       "     'avg_last_2_months_spend': 1132},\n",
       "    'training_samples': 34596,\n",
       "    'running_time': '8.427 s'},\n",
       "   'object': <lightgbm.basic.Booster at 0x1c2417c780>,\n",
       "   'prediction_ranger': {'prediction_min': 0.0,\n",
       "    'prediction_max': 100000.0,\n",
       "    'transformed_column': ['prediction']},\n",
       "   '__fkml__': {'pipeline': ['label_categorizer',\n",
       "     'capper',\n",
       "     'imputer',\n",
       "     'lgbm_regression_learner',\n",
       "     'prediction_ranger'],\n",
       "    'output_columns': ['id',\n",
       "     'month',\n",
       "     'income',\n",
       "     'created_at',\n",
       "     'phone_type',\n",
       "     'bureau_score',\n",
       "     'spend_desire',\n",
       "     'random_noise',\n",
       "     'monthly_spend',\n",
       "     'month_date',\n",
       "     'avg_last_2_months_spend',\n",
       "     'target',\n",
       "     'prediction'],\n",
       "    'features': ['id',\n",
       "     'month',\n",
       "     'income',\n",
       "     'created_at',\n",
       "     'phone_type',\n",
       "     'bureau_score',\n",
       "     'spend_desire',\n",
       "     'random_noise',\n",
       "     'monthly_spend',\n",
       "     'month_date',\n",
       "     'avg_last_2_months_spend',\n",
       "     'target'],\n",
       "    'learners': {'label_categorizer': {'fn': <function fklearn.training.transformation.label_categorizer.<locals>.p(new_df:pandas.core.frame.DataFrame) -> pandas.core.frame.DataFrame>,\n",
       "      'log': {'label_categorizer': {'transformed_column': ['phone_type'],\n",
       "        'replace_unseen': nan,\n",
       "        'running_time': '0.066 s'}}},\n",
       "     'capper': {'fn': <function fklearn.training.transformation.capper.<locals>.p(new_data_set:pandas.core.frame.DataFrame) -> pandas.core.frame.DataFrame>,\n",
       "      'log': {'capper': {'caps': {'income': 20000.0},\n",
       "        'transformed_column': ['income'],\n",
       "        'precomputed_caps': {'income': 20000.0},\n",
       "        'running_time': '0.035 s'}}},\n",
       "     'imputer': {'fn': <function fklearn.training.imputation.imputer.<locals>.p(new_data_set:pandas.core.frame.DataFrame) -> pandas.core.frame.DataFrame>,\n",
       "      'log': {'imputer': {'impute_strategy': 'median',\n",
       "        'columns_to_impute': ['bureau_score'],\n",
       "        'training_proportion_of_nulls': {'bureau_score': 0.09963579604578564},\n",
       "        'statistics': array([323.25068625]),\n",
       "        'running_time': '0.083 s'}}},\n",
       "     'lgbm_regression_learner': {'fn': <function fklearn.training.regression.lgbm_regression_learner.<locals>.p(new_df:pandas.core.frame.DataFrame, apply_shap:bool=False) -> pandas.core.frame.DataFrame>,\n",
       "      'log': {'lgbm_regression_learner': {'features': ['income',\n",
       "         'bureau_score',\n",
       "         'spend_desire',\n",
       "         'random_noise',\n",
       "         'monthly_spend',\n",
       "         'avg_last_2_months_spend'],\n",
       "        'target': 'target',\n",
       "        'prediction_column': 'prediction',\n",
       "        'package': 'lightgbm',\n",
       "        'package_version': '2.2.3',\n",
       "        'parameters': {'eta': 0.1,\n",
       "         'objective': 'regression',\n",
       "         'num_estimators': 200},\n",
       "        'feature_importance': {'income': 1000,\n",
       "         'bureau_score': 937,\n",
       "         'spend_desire': 1050,\n",
       "         'random_noise': 901,\n",
       "         'monthly_spend': 980,\n",
       "         'avg_last_2_months_spend': 1132},\n",
       "        'training_samples': 34596,\n",
       "        'running_time': '8.427 s'},\n",
       "       'object': <lightgbm.basic.Booster at 0x1c2417c780>}},\n",
       "     'prediction_ranger': {'fn': <function fklearn.training.transformation.prediction_ranger.<locals>.p(new_df:pandas.core.frame.DataFrame) -> pandas.core.frame.DataFrame>,\n",
       "      'log': {'prediction_ranger': {'prediction_min': 0.0,\n",
       "        'prediction_max': 100000.0,\n",
       "        'transformed_column': ['prediction']}}}}}},\n",
       "  {'label_categorizer': {'transformed_column': ['phone_type'],\n",
       "    'replace_unseen': nan,\n",
       "    'running_time': '0.069 s'},\n",
       "   'capper': {'caps': {'income': 20000.0},\n",
       "    'transformed_column': ['income'],\n",
       "    'precomputed_caps': {'income': 20000.0},\n",
       "    'running_time': '0.073 s'},\n",
       "   'imputer': {'impute_strategy': 'median',\n",
       "    'columns_to_impute': ['bureau_score'],\n",
       "    'training_proportion_of_nulls': {'bureau_score': 0.09967012894959243},\n",
       "    'statistics': array([323.08777898]),\n",
       "    'running_time': '0.051 s'},\n",
       "   'lgbm_regression_learner': {'features': ['income',\n",
       "     'bureau_score',\n",
       "     'spend_desire',\n",
       "     'random_noise',\n",
       "     'monthly_spend',\n",
       "     'avg_last_2_months_spend'],\n",
       "    'target': 'target',\n",
       "    'prediction_column': 'prediction',\n",
       "    'package': 'lightgbm',\n",
       "    'package_version': '2.2.3',\n",
       "    'parameters': {'eta': 0.1,\n",
       "     'objective': 'regression',\n",
       "     'num_estimators': 200},\n",
       "    'feature_importance': {'income': 1036,\n",
       "     'bureau_score': 947,\n",
       "     'spend_desire': 1061,\n",
       "     'random_noise': 880,\n",
       "     'monthly_spend': 961,\n",
       "     'avg_last_2_months_spend': 1115},\n",
       "    'training_samples': 36681,\n",
       "    'running_time': '8.427 s'},\n",
       "   'object': <lightgbm.basic.Booster at 0x1c2417c898>,\n",
       "   'prediction_ranger': {'prediction_min': 0.0,\n",
       "    'prediction_max': 100000.0,\n",
       "    'transformed_column': ['prediction']},\n",
       "   '__fkml__': {'pipeline': ['label_categorizer',\n",
       "     'capper',\n",
       "     'imputer',\n",
       "     'lgbm_regression_learner',\n",
       "     'prediction_ranger'],\n",
       "    'output_columns': ['id',\n",
       "     'month',\n",
       "     'income',\n",
       "     'created_at',\n",
       "     'phone_type',\n",
       "     'bureau_score',\n",
       "     'spend_desire',\n",
       "     'random_noise',\n",
       "     'monthly_spend',\n",
       "     'month_date',\n",
       "     'avg_last_2_months_spend',\n",
       "     'target',\n",
       "     'prediction'],\n",
       "    'features': ['id',\n",
       "     'month',\n",
       "     'income',\n",
       "     'created_at',\n",
       "     'phone_type',\n",
       "     'bureau_score',\n",
       "     'spend_desire',\n",
       "     'random_noise',\n",
       "     'monthly_spend',\n",
       "     'month_date',\n",
       "     'avg_last_2_months_spend',\n",
       "     'target'],\n",
       "    'learners': {'label_categorizer': {'fn': <function fklearn.training.transformation.label_categorizer.<locals>.p(new_df:pandas.core.frame.DataFrame) -> pandas.core.frame.DataFrame>,\n",
       "      'log': {'label_categorizer': {'transformed_column': ['phone_type'],\n",
       "        'replace_unseen': nan,\n",
       "        'running_time': '0.069 s'}}},\n",
       "     'capper': {'fn': <function fklearn.training.transformation.capper.<locals>.p(new_data_set:pandas.core.frame.DataFrame) -> pandas.core.frame.DataFrame>,\n",
       "      'log': {'capper': {'caps': {'income': 20000.0},\n",
       "        'transformed_column': ['income'],\n",
       "        'precomputed_caps': {'income': 20000.0},\n",
       "        'running_time': '0.073 s'}}},\n",
       "     'imputer': {'fn': <function fklearn.training.imputation.imputer.<locals>.p(new_data_set:pandas.core.frame.DataFrame) -> pandas.core.frame.DataFrame>,\n",
       "      'log': {'imputer': {'impute_strategy': 'median',\n",
       "        'columns_to_impute': ['bureau_score'],\n",
       "        'training_proportion_of_nulls': {'bureau_score': 0.09967012894959243},\n",
       "        'statistics': array([323.08777898]),\n",
       "        'running_time': '0.051 s'}}},\n",
       "     'lgbm_regression_learner': {'fn': <function fklearn.training.regression.lgbm_regression_learner.<locals>.p(new_df:pandas.core.frame.DataFrame, apply_shap:bool=False) -> pandas.core.frame.DataFrame>,\n",
       "      'log': {'lgbm_regression_learner': {'features': ['income',\n",
       "         'bureau_score',\n",
       "         'spend_desire',\n",
       "         'random_noise',\n",
       "         'monthly_spend',\n",
       "         'avg_last_2_months_spend'],\n",
       "        'target': 'target',\n",
       "        'prediction_column': 'prediction',\n",
       "        'package': 'lightgbm',\n",
       "        'package_version': '2.2.3',\n",
       "        'parameters': {'eta': 0.1,\n",
       "         'objective': 'regression',\n",
       "         'num_estimators': 200},\n",
       "        'feature_importance': {'income': 1036,\n",
       "         'bureau_score': 947,\n",
       "         'spend_desire': 1061,\n",
       "         'random_noise': 880,\n",
       "         'monthly_spend': 961,\n",
       "         'avg_last_2_months_spend': 1115},\n",
       "        'training_samples': 36681,\n",
       "        'running_time': '8.427 s'},\n",
       "       'object': <lightgbm.basic.Booster at 0x1c2417c898>}},\n",
       "     'prediction_ranger': {'fn': <function fklearn.training.transformation.prediction_ranger.<locals>.p(new_df:pandas.core.frame.DataFrame) -> pandas.core.frame.DataFrame>,\n",
       "      'log': {'prediction_ranger': {'prediction_min': 0.0,\n",
       "        'prediction_max': 100000.0,\n",
       "        'transformed_column': ['prediction']}}}}}}],\n",
       " 'validator_log': [{'fold_num': 0,\n",
       "   'eval_results': [{'r2_evaluator__target': 0.5171407076607802,\n",
       "     'spearman_evaluator__target': 0.74907891185969}],\n",
       "   'split_log': {'train_start': Timestamp('2017-02-01 00:00:00'),\n",
       "    'train_end': Timestamp('2018-03-11 00:00:00'),\n",
       "    'train_size': 5112,\n",
       "    'test_start': Timestamp('2018-04-11 00:00:00'),\n",
       "    'test_end': Timestamp('2018-06-12 00:00:00'),\n",
       "    'test_size': 16711,\n",
       "    'percentage': 0.1}},\n",
       "  {'fold_num': 1,\n",
       "   'eval_results': [{'r2_evaluator__target': 0.5483203154593959,\n",
       "     'spearman_evaluator__target': 0.7658104835360933}],\n",
       "   'split_log': {'train_start': Timestamp('2017-02-01 00:00:00'),\n",
       "    'train_end': Timestamp('2018-03-11 00:00:00'),\n",
       "    'train_size': 9996,\n",
       "    'test_start': Timestamp('2018-04-11 00:00:00'),\n",
       "    'test_end': Timestamp('2018-06-12 00:00:00'),\n",
       "    'test_size': 16711,\n",
       "    'percentage': 0.2}},\n",
       "  {'fold_num': 2,\n",
       "   'eval_results': [{'r2_evaluator__target': 0.571996774544315,\n",
       "     'spearman_evaluator__target': 0.7769951564285875}],\n",
       "   'split_log': {'train_start': Timestamp('2017-02-01 00:00:00'),\n",
       "    'train_end': Timestamp('2018-03-11 00:00:00'),\n",
       "    'train_size': 19657,\n",
       "    'test_start': Timestamp('2018-04-11 00:00:00'),\n",
       "    'test_end': Timestamp('2018-06-12 00:00:00'),\n",
       "    'test_size': 16711,\n",
       "    'percentage': 0.4}},\n",
       "  {'fold_num': 3,\n",
       "   'eval_results': [{'r2_evaluator__target': 0.576652288844989,\n",
       "     'spearman_evaluator__target': 0.7812575105537258}],\n",
       "   'split_log': {'train_start': Timestamp('2017-02-01 00:00:00'),\n",
       "    'train_end': Timestamp('2018-03-11 00:00:00'),\n",
       "    'train_size': 28076,\n",
       "    'test_start': Timestamp('2018-04-11 00:00:00'),\n",
       "    'test_end': Timestamp('2018-06-12 00:00:00'),\n",
       "    'test_size': 16711,\n",
       "    'percentage': 0.6}},\n",
       "  {'fold_num': 4,\n",
       "   'eval_results': [{'r2_evaluator__target': 0.5802890535758547,\n",
       "     'spearman_evaluator__target': 0.7828895161545779}],\n",
       "   'split_log': {'train_start': Timestamp('2017-02-01 00:00:00'),\n",
       "    'train_end': Timestamp('2018-03-11 00:00:00'),\n",
       "    'train_size': 34596,\n",
       "    'test_start': Timestamp('2018-04-11 00:00:00'),\n",
       "    'test_end': Timestamp('2018-06-12 00:00:00'),\n",
       "    'test_size': 16711,\n",
       "    'percentage': 0.8}},\n",
       "  {'fold_num': 5,\n",
       "   'eval_results': [{'r2_evaluator__target': 0.5804922883514709,\n",
       "     'spearman_evaluator__target': 0.7824317627474665}],\n",
       "   'split_log': {'train_start': Timestamp('2017-02-01 00:00:00'),\n",
       "    'train_end': Timestamp('2018-03-11 00:00:00'),\n",
       "    'train_size': 36681,\n",
       "    'test_start': Timestamp('2018-04-11 00:00:00'),\n",
       "    'test_end': Timestamp('2018-06-12 00:00:00'),\n",
       "    'test_size': 16711,\n",
       "    'percentage': 1.0}}]}"
      ]
     },
     "execution_count": 31,
     "metadata": {},
     "output_type": "execute_result"
    }
   ],
   "source": [
    "spatial_learning_curve_logs"
   ]
  },
  {
   "cell_type": "code",
   "execution_count": 32,
   "metadata": {
    "ExecuteTime": {
     "end_time": "2019-06-26T14:35:19.461589Z",
     "start_time": "2019-06-26T14:35:19.398409Z"
    },
    "slideshow": {
     "slide_type": "slide"
    }
   },
   "outputs": [],
   "source": [
    "data = extract(spatial_learning_curve_logs['validator_log'], full_extractor)"
   ]
  },
  {
   "cell_type": "code",
   "execution_count": 33,
   "metadata": {
    "ExecuteTime": {
     "end_time": "2019-06-26T14:35:21.587560Z",
     "start_time": "2019-06-26T14:35:21.574380Z"
    },
    "slideshow": {
     "slide_type": "fragment"
    }
   },
   "outputs": [
    {
     "data": {
      "text/html": [
       "<div>\n",
       "<style scoped>\n",
       "    .dataframe tbody tr th:only-of-type {\n",
       "        vertical-align: middle;\n",
       "    }\n",
       "\n",
       "    .dataframe tbody tr th {\n",
       "        vertical-align: top;\n",
       "    }\n",
       "\n",
       "    .dataframe thead th {\n",
       "        text-align: right;\n",
       "    }\n",
       "</style>\n",
       "<table border=\"1\" class=\"dataframe\">\n",
       "  <thead>\n",
       "    <tr style=\"text-align: right;\">\n",
       "      <th></th>\n",
       "      <th>r2_evaluator__target</th>\n",
       "      <th>spearman_evaluator__target</th>\n",
       "      <th>fold_num</th>\n",
       "      <th>train_start</th>\n",
       "      <th>train_end</th>\n",
       "      <th>train_size</th>\n",
       "      <th>test_start</th>\n",
       "      <th>test_end</th>\n",
       "      <th>test_size</th>\n",
       "      <th>percentage</th>\n",
       "    </tr>\n",
       "  </thead>\n",
       "  <tbody>\n",
       "    <tr>\n",
       "      <th>0</th>\n",
       "      <td>0.517141</td>\n",
       "      <td>0.749079</td>\n",
       "      <td>0</td>\n",
       "      <td>2017-02-01</td>\n",
       "      <td>2018-03-11</td>\n",
       "      <td>5112</td>\n",
       "      <td>2018-04-11</td>\n",
       "      <td>2018-06-12</td>\n",
       "      <td>16711</td>\n",
       "      <td>0.1</td>\n",
       "    </tr>\n",
       "    <tr>\n",
       "      <th>0</th>\n",
       "      <td>0.548320</td>\n",
       "      <td>0.765810</td>\n",
       "      <td>1</td>\n",
       "      <td>2017-02-01</td>\n",
       "      <td>2018-03-11</td>\n",
       "      <td>9996</td>\n",
       "      <td>2018-04-11</td>\n",
       "      <td>2018-06-12</td>\n",
       "      <td>16711</td>\n",
       "      <td>0.2</td>\n",
       "    </tr>\n",
       "    <tr>\n",
       "      <th>0</th>\n",
       "      <td>0.571997</td>\n",
       "      <td>0.776995</td>\n",
       "      <td>2</td>\n",
       "      <td>2017-02-01</td>\n",
       "      <td>2018-03-11</td>\n",
       "      <td>19657</td>\n",
       "      <td>2018-04-11</td>\n",
       "      <td>2018-06-12</td>\n",
       "      <td>16711</td>\n",
       "      <td>0.4</td>\n",
       "    </tr>\n",
       "    <tr>\n",
       "      <th>0</th>\n",
       "      <td>0.576652</td>\n",
       "      <td>0.781258</td>\n",
       "      <td>3</td>\n",
       "      <td>2017-02-01</td>\n",
       "      <td>2018-03-11</td>\n",
       "      <td>28076</td>\n",
       "      <td>2018-04-11</td>\n",
       "      <td>2018-06-12</td>\n",
       "      <td>16711</td>\n",
       "      <td>0.6</td>\n",
       "    </tr>\n",
       "    <tr>\n",
       "      <th>0</th>\n",
       "      <td>0.580289</td>\n",
       "      <td>0.782890</td>\n",
       "      <td>4</td>\n",
       "      <td>2017-02-01</td>\n",
       "      <td>2018-03-11</td>\n",
       "      <td>34596</td>\n",
       "      <td>2018-04-11</td>\n",
       "      <td>2018-06-12</td>\n",
       "      <td>16711</td>\n",
       "      <td>0.8</td>\n",
       "    </tr>\n",
       "    <tr>\n",
       "      <th>0</th>\n",
       "      <td>0.580492</td>\n",
       "      <td>0.782432</td>\n",
       "      <td>5</td>\n",
       "      <td>2017-02-01</td>\n",
       "      <td>2018-03-11</td>\n",
       "      <td>36681</td>\n",
       "      <td>2018-04-11</td>\n",
       "      <td>2018-06-12</td>\n",
       "      <td>16711</td>\n",
       "      <td>1.0</td>\n",
       "    </tr>\n",
       "  </tbody>\n",
       "</table>\n",
       "</div>"
      ],
      "text/plain": [
       "   r2_evaluator__target  spearman_evaluator__target  fold_num train_start  \\\n",
       "0              0.517141                    0.749079         0  2017-02-01   \n",
       "0              0.548320                    0.765810         1  2017-02-01   \n",
       "0              0.571997                    0.776995         2  2017-02-01   \n",
       "0              0.576652                    0.781258         3  2017-02-01   \n",
       "0              0.580289                    0.782890         4  2017-02-01   \n",
       "0              0.580492                    0.782432         5  2017-02-01   \n",
       "\n",
       "   train_end  train_size test_start   test_end  test_size  percentage  \n",
       "0 2018-03-11        5112 2018-04-11 2018-06-12      16711         0.1  \n",
       "0 2018-03-11        9996 2018-04-11 2018-06-12      16711         0.2  \n",
       "0 2018-03-11       19657 2018-04-11 2018-06-12      16711         0.4  \n",
       "0 2018-03-11       28076 2018-04-11 2018-06-12      16711         0.6  \n",
       "0 2018-03-11       34596 2018-04-11 2018-06-12      16711         0.8  \n",
       "0 2018-03-11       36681 2018-04-11 2018-06-12      16711         1.0  "
      ]
     },
     "execution_count": 33,
     "metadata": {},
     "output_type": "execute_result"
    }
   ],
   "source": [
    "data"
   ]
  },
  {
   "cell_type": "code",
   "execution_count": 34,
   "metadata": {
    "ExecuteTime": {
     "end_time": "2019-06-26T14:35:32.936428Z",
     "start_time": "2019-06-26T14:35:32.746916Z"
    },
    "slideshow": {
     "slide_type": "slide"
    }
   },
   "outputs": [
    {
     "data": {
      "image/png": "[encoded data removed]",
      "text/plain": [
       "<Figure size 720x576 with 1 Axes>"
      ]
     },
     "metadata": {
      "needs_background": "light"
     },
     "output_type": "display_data"
    }
   ],
   "source": [
    "fig, ax = plt.subplots(figsize=(10, 8))\n",
    "sns.pointplot(data=data, ax=ax, x=\"percentage\", y=\"r2_evaluator__target\")\n",
    "plt.title(\"Spatial learning curve (trained from %s to %s)\" % (data.train_start.dt.date.min(), data.train_end.dt.date.max()));"
   ]
  },
  {
   "cell_type": "markdown",
   "metadata": {
    "ExecuteTime": {
     "end_time": "2019-04-24T13:49:52.277446Z",
     "start_time": "2019-04-24T13:49:52.272394Z"
    },
    "slideshow": {
     "slide_type": "slide"
    }
   },
   "source": [
    "## Performance over time\n",
    "\n",
    "* <font size=\"4\"> That metric can be thought as split your dataset month by month and computing the desired metrics\n",
    "</font>\n",
    "\n",
    "\n",
    "* <font size=\"4\"> We can do that with ease using our split evaluators </font>"
   ]
  },
  {
   "cell_type": "code",
   "execution_count": 35,
   "metadata": {
    "ExecuteTime": {
     "end_time": "2019-06-26T14:36:48.588963Z",
     "start_time": "2019-06-26T14:36:48.580102Z"
    },
    "slideshow": {
     "slide_type": "slide"
    }
   },
   "outputs": [],
   "source": [
    "from fklearn.validation.evaluators import split_evaluator\n",
    "from fklearn.metrics.pd_extractors import split_evaluator_extractor\n",
    "out_of_space_holdout = pd.concat([scored_intime_outspace_hdout, scored_outime_outspace_hdout])\n",
    "\n",
    "monthly_eval_fn = split_evaluator(eval_fn=eval_fn,\n",
    "                                  split_col=\"month\",\n",
    "                                  split_values=list(range(0, 25)))\n",
    "\n",
    "monthly_extractor = split_evaluator_extractor(base_extractor=full_extractor, \n",
    "                                              split_col=\"month\", \n",
    "                                              split_values=list(range(0, 25)))"
   ]
  },
  {
   "cell_type": "code",
   "execution_count": 36,
   "metadata": {
    "ExecuteTime": {
     "end_time": "2019-06-26T14:36:51.244424Z",
     "start_time": "2019-06-26T14:36:51.156741Z"
    },
    "slideshow": {
     "slide_type": "fragment"
    }
   },
   "outputs": [],
   "source": [
    "out_of_space_logs = monthly_eval_fn(out_of_space_holdout)"
   ]
  },
  {
   "cell_type": "code",
   "execution_count": 37,
   "metadata": {
    "ExecuteTime": {
     "end_time": "2019-06-26T14:37:07.740922Z",
     "start_time": "2019-06-26T14:37:07.682994Z"
    },
    "slideshow": {
     "slide_type": "fragment"
    }
   },
   "outputs": [],
   "source": [
    "monthly_performance = monthly_extractor(out_of_space_logs)"
   ]
  },
  {
   "cell_type": "code",
   "execution_count": 38,
   "metadata": {
    "ExecuteTime": {
     "end_time": "2019-06-26T14:37:08.293833Z",
     "start_time": "2019-06-26T14:37:08.283570Z"
    },
    "slideshow": {
     "slide_type": "slide"
    }
   },
   "outputs": [
    {
     "data": {
      "text/html": [
       "<div>\n",
       "<style scoped>\n",
       "    .dataframe tbody tr th:only-of-type {\n",
       "        vertical-align: middle;\n",
       "    }\n",
       "\n",
       "    .dataframe tbody tr th {\n",
       "        vertical-align: top;\n",
       "    }\n",
       "\n",
       "    .dataframe thead th {\n",
       "        text-align: right;\n",
       "    }\n",
       "</style>\n",
       "<table border=\"1\" class=\"dataframe\">\n",
       "  <thead>\n",
       "    <tr style=\"text-align: right;\">\n",
       "      <th></th>\n",
       "      <th>r2_evaluator__target</th>\n",
       "      <th>spearman_evaluator__target</th>\n",
       "      <th>split_evaluator__month</th>\n",
       "    </tr>\n",
       "  </thead>\n",
       "  <tbody>\n",
       "    <tr>\n",
       "      <th>0</th>\n",
       "      <td>NaN</td>\n",
       "      <td>NaN</td>\n",
       "      <td>0</td>\n",
       "    </tr>\n",
       "    <tr>\n",
       "      <th>0</th>\n",
       "      <td>0.421870</td>\n",
       "      <td>0.744979</td>\n",
       "      <td>1</td>\n",
       "    </tr>\n",
       "    <tr>\n",
       "      <th>0</th>\n",
       "      <td>0.491403</td>\n",
       "      <td>0.701534</td>\n",
       "      <td>2</td>\n",
       "    </tr>\n",
       "    <tr>\n",
       "      <th>0</th>\n",
       "      <td>0.478469</td>\n",
       "      <td>0.729370</td>\n",
       "      <td>3</td>\n",
       "    </tr>\n",
       "    <tr>\n",
       "      <th>0</th>\n",
       "      <td>0.534005</td>\n",
       "      <td>0.736146</td>\n",
       "      <td>4</td>\n",
       "    </tr>\n",
       "    <tr>\n",
       "      <th>0</th>\n",
       "      <td>0.538004</td>\n",
       "      <td>0.752896</td>\n",
       "      <td>5</td>\n",
       "    </tr>\n",
       "    <tr>\n",
       "      <th>0</th>\n",
       "      <td>0.528558</td>\n",
       "      <td>0.749593</td>\n",
       "      <td>6</td>\n",
       "    </tr>\n",
       "    <tr>\n",
       "      <th>0</th>\n",
       "      <td>0.599890</td>\n",
       "      <td>0.799352</td>\n",
       "      <td>7</td>\n",
       "    </tr>\n",
       "    <tr>\n",
       "      <th>0</th>\n",
       "      <td>0.603244</td>\n",
       "      <td>0.796775</td>\n",
       "      <td>8</td>\n",
       "    </tr>\n",
       "    <tr>\n",
       "      <th>0</th>\n",
       "      <td>0.627977</td>\n",
       "      <td>0.808087</td>\n",
       "      <td>9</td>\n",
       "    </tr>\n",
       "    <tr>\n",
       "      <th>0</th>\n",
       "      <td>0.598558</td>\n",
       "      <td>0.779260</td>\n",
       "      <td>10</td>\n",
       "    </tr>\n",
       "    <tr>\n",
       "      <th>0</th>\n",
       "      <td>0.604571</td>\n",
       "      <td>0.788846</td>\n",
       "      <td>11</td>\n",
       "    </tr>\n",
       "    <tr>\n",
       "      <th>0</th>\n",
       "      <td>0.604477</td>\n",
       "      <td>0.793243</td>\n",
       "      <td>12</td>\n",
       "    </tr>\n",
       "    <tr>\n",
       "      <th>0</th>\n",
       "      <td>0.575609</td>\n",
       "      <td>0.775225</td>\n",
       "      <td>13</td>\n",
       "    </tr>\n",
       "    <tr>\n",
       "      <th>0</th>\n",
       "      <td>0.582989</td>\n",
       "      <td>0.789979</td>\n",
       "      <td>14</td>\n",
       "    </tr>\n",
       "    <tr>\n",
       "      <th>0</th>\n",
       "      <td>0.578106</td>\n",
       "      <td>0.779769</td>\n",
       "      <td>15</td>\n",
       "    </tr>\n",
       "    <tr>\n",
       "      <th>0</th>\n",
       "      <td>0.576511</td>\n",
       "      <td>0.784794</td>\n",
       "      <td>16</td>\n",
       "    </tr>\n",
       "    <tr>\n",
       "      <th>0</th>\n",
       "      <td>0.611587</td>\n",
       "      <td>0.806708</td>\n",
       "      <td>17</td>\n",
       "    </tr>\n",
       "    <tr>\n",
       "      <th>0</th>\n",
       "      <td>0.616746</td>\n",
       "      <td>0.800946</td>\n",
       "      <td>18</td>\n",
       "    </tr>\n",
       "    <tr>\n",
       "      <th>0</th>\n",
       "      <td>0.581834</td>\n",
       "      <td>0.780355</td>\n",
       "      <td>19</td>\n",
       "    </tr>\n",
       "    <tr>\n",
       "      <th>0</th>\n",
       "      <td>0.576350</td>\n",
       "      <td>0.783299</td>\n",
       "      <td>20</td>\n",
       "    </tr>\n",
       "    <tr>\n",
       "      <th>0</th>\n",
       "      <td>NaN</td>\n",
       "      <td>NaN</td>\n",
       "      <td>21</td>\n",
       "    </tr>\n",
       "    <tr>\n",
       "      <th>0</th>\n",
       "      <td>NaN</td>\n",
       "      <td>NaN</td>\n",
       "      <td>22</td>\n",
       "    </tr>\n",
       "    <tr>\n",
       "      <th>0</th>\n",
       "      <td>NaN</td>\n",
       "      <td>NaN</td>\n",
       "      <td>23</td>\n",
       "    </tr>\n",
       "    <tr>\n",
       "      <th>0</th>\n",
       "      <td>NaN</td>\n",
       "      <td>NaN</td>\n",
       "      <td>24</td>\n",
       "    </tr>\n",
       "  </tbody>\n",
       "</table>\n",
       "</div>"
      ],
      "text/plain": [
       "   r2_evaluator__target  spearman_evaluator__target  split_evaluator__month\n",
       "0                   NaN                         NaN                       0\n",
       "0              0.421870                    0.744979                       1\n",
       "0              0.491403                    0.701534                       2\n",
       "0              0.478469                    0.729370                       3\n",
       "0              0.534005                    0.736146                       4\n",
       "0              0.538004                    0.752896                       5\n",
       "0              0.528558                    0.749593                       6\n",
       "0              0.599890                    0.799352                       7\n",
       "0              0.603244                    0.796775                       8\n",
       "0              0.627977                    0.808087                       9\n",
       "0              0.598558                    0.779260                      10\n",
       "0              0.604571                    0.788846                      11\n",
       "0              0.604477                    0.793243                      12\n",
       "0              0.575609                    0.775225                      13\n",
       "0              0.582989                    0.789979                      14\n",
       "0              0.578106                    0.779769                      15\n",
       "0              0.576511                    0.784794                      16\n",
       "0              0.611587                    0.806708                      17\n",
       "0              0.616746                    0.800946                      18\n",
       "0              0.581834                    0.780355                      19\n",
       "0              0.576350                    0.783299                      20\n",
       "0                   NaN                         NaN                      21\n",
       "0                   NaN                         NaN                      22\n",
       "0                   NaN                         NaN                      23\n",
       "0                   NaN                         NaN                      24"
      ]
     },
     "execution_count": 38,
     "metadata": {},
     "output_type": "execute_result"
    }
   ],
   "source": [
    "monthly_performance"
   ]
  },
  {
   "cell_type": "code",
   "execution_count": 39,
   "metadata": {
    "ExecuteTime": {
     "end_time": "2019-06-26T14:37:13.593862Z",
     "start_time": "2019-06-26T14:37:13.298620Z"
    },
    "slideshow": {
     "slide_type": "slide"
    }
   },
   "outputs": [
    {
     "data": {
      "text/plain": [
       "<matplotlib.axes._subplots.AxesSubplot at 0x1c240b51d0>"
      ]
     },
     "execution_count": 39,
     "metadata": {},
     "output_type": "execute_result"
    },
    {
     "data": {
      "image/png": "[encoded data removed]",
      "text/plain": [
       "<Figure size 720x576 with 1 Axes>"
      ]
     },
     "metadata": {
      "needs_background": "light"
     },
     "output_type": "display_data"
    }
   ],
   "source": [
    "fig, ax = plt.subplots(figsize=(10, 8))\n",
    "sns.pointplot(data=monthly_performance, ax=ax, x=\"split_evaluator__month\", y=\"r2_evaluator__target\")"
   ]
  },
  {
   "cell_type": "markdown",
   "metadata": {
    "slideshow": {
     "slide_type": "slide"
    }
   },
   "source": [
    "##  Impact of More Data on Monthly Performance?\n",
    "\n",
    "* <font size=\"4\"> We want both our previous way of spliting our dataset and the evaluator we created </font>\n",
    "\n",
    "\n",
    "* <font size=\"4\"> We can use both to create a new spatial learning curve! </font>"
   ]
  },
  {
   "cell_type": "code",
   "execution_count": 40,
   "metadata": {
    "ExecuteTime": {
     "end_time": "2019-06-26T14:38:22.395792Z",
     "start_time": "2019-06-26T14:38:12.970873Z"
    },
    "slideshow": {
     "slide_type": "slide"
    }
   },
   "outputs": [],
   "source": [
    "monthly_spatial_learning_curve_logs = parallel_validator(train_set,\n",
    "                                                         split_fn,\n",
    "                                                         train_fn,\n",
    "                                                         monthly_eval_fn,\n",
    "                                                         n_jobs=8)"
   ]
  },
  {
   "cell_type": "code",
   "execution_count": 41,
   "metadata": {
    "ExecuteTime": {
     "end_time": "2019-06-26T14:38:22.760243Z",
     "start_time": "2019-06-26T14:38:22.397990Z"
    },
    "slideshow": {
     "slide_type": "slide"
    }
   },
   "outputs": [],
   "source": [
    "monthly_data = extract(monthly_spatial_learning_curve_logs['validator_log'], monthly_extractor).loc[lambda df: df.r2_evaluator__target.notna()]"
   ]
  },
  {
   "cell_type": "code",
   "execution_count": 42,
   "metadata": {
    "ExecuteTime": {
     "end_time": "2019-06-26T14:38:22.780083Z",
     "start_time": "2019-06-26T14:38:22.762571Z"
    },
    "slideshow": {
     "slide_type": "fragment"
    }
   },
   "outputs": [
    {
     "data": {
      "text/html": [
       "<div>\n",
       "<style scoped>\n",
       "    .dataframe tbody tr th:only-of-type {\n",
       "        vertical-align: middle;\n",
       "    }\n",
       "\n",
       "    .dataframe tbody tr th {\n",
       "        vertical-align: top;\n",
       "    }\n",
       "\n",
       "    .dataframe thead th {\n",
       "        text-align: right;\n",
       "    }\n",
       "</style>\n",
       "<table border=\"1\" class=\"dataframe\">\n",
       "  <thead>\n",
       "    <tr style=\"text-align: right;\">\n",
       "      <th></th>\n",
       "      <th>r2_evaluator__target</th>\n",
       "      <th>spearman_evaluator__target</th>\n",
       "      <th>split_evaluator__month</th>\n",
       "      <th>fold_num</th>\n",
       "      <th>train_start</th>\n",
       "      <th>train_end</th>\n",
       "      <th>train_size</th>\n",
       "      <th>test_start</th>\n",
       "      <th>test_end</th>\n",
       "      <th>test_size</th>\n",
       "      <th>percentage</th>\n",
       "    </tr>\n",
       "  </thead>\n",
       "  <tbody>\n",
       "    <tr>\n",
       "      <th>0</th>\n",
       "      <td>0.540541</td>\n",
       "      <td>0.758164</td>\n",
       "      <td>15</td>\n",
       "      <td>0</td>\n",
       "      <td>2017-02-01</td>\n",
       "      <td>2018-03-11</td>\n",
       "      <td>5094</td>\n",
       "      <td>2018-04-11</td>\n",
       "      <td>2018-06-12</td>\n",
       "      <td>16711</td>\n",
       "      <td>0.1</td>\n",
       "    </tr>\n",
       "    <tr>\n",
       "      <th>0</th>\n",
       "      <td>0.514314</td>\n",
       "      <td>0.743269</td>\n",
       "      <td>16</td>\n",
       "      <td>0</td>\n",
       "      <td>2017-02-01</td>\n",
       "      <td>2018-03-11</td>\n",
       "      <td>5094</td>\n",
       "      <td>2018-04-11</td>\n",
       "      <td>2018-06-12</td>\n",
       "      <td>16711</td>\n",
       "      <td>0.1</td>\n",
       "    </tr>\n",
       "    <tr>\n",
       "      <th>0</th>\n",
       "      <td>0.507848</td>\n",
       "      <td>0.743218</td>\n",
       "      <td>17</td>\n",
       "      <td>0</td>\n",
       "      <td>2017-02-01</td>\n",
       "      <td>2018-03-11</td>\n",
       "      <td>5094</td>\n",
       "      <td>2018-04-11</td>\n",
       "      <td>2018-06-12</td>\n",
       "      <td>16711</td>\n",
       "      <td>0.1</td>\n",
       "    </tr>\n",
       "    <tr>\n",
       "      <th>0</th>\n",
       "      <td>0.566848</td>\n",
       "      <td>0.774746</td>\n",
       "      <td>15</td>\n",
       "      <td>1</td>\n",
       "      <td>2017-02-01</td>\n",
       "      <td>2018-03-11</td>\n",
       "      <td>9987</td>\n",
       "      <td>2018-04-11</td>\n",
       "      <td>2018-06-12</td>\n",
       "      <td>16711</td>\n",
       "      <td>0.2</td>\n",
       "    </tr>\n",
       "    <tr>\n",
       "      <th>0</th>\n",
       "      <td>0.543697</td>\n",
       "      <td>0.761993</td>\n",
       "      <td>16</td>\n",
       "      <td>1</td>\n",
       "      <td>2017-02-01</td>\n",
       "      <td>2018-03-11</td>\n",
       "      <td>9987</td>\n",
       "      <td>2018-04-11</td>\n",
       "      <td>2018-06-12</td>\n",
       "      <td>16711</td>\n",
       "      <td>0.2</td>\n",
       "    </tr>\n",
       "    <tr>\n",
       "      <th>0</th>\n",
       "      <td>0.539739</td>\n",
       "      <td>0.762033</td>\n",
       "      <td>17</td>\n",
       "      <td>1</td>\n",
       "      <td>2017-02-01</td>\n",
       "      <td>2018-03-11</td>\n",
       "      <td>9987</td>\n",
       "      <td>2018-04-11</td>\n",
       "      <td>2018-06-12</td>\n",
       "      <td>16711</td>\n",
       "      <td>0.2</td>\n",
       "    </tr>\n",
       "    <tr>\n",
       "      <th>0</th>\n",
       "      <td>0.586378</td>\n",
       "      <td>0.786420</td>\n",
       "      <td>15</td>\n",
       "      <td>2</td>\n",
       "      <td>2017-02-01</td>\n",
       "      <td>2018-03-11</td>\n",
       "      <td>19440</td>\n",
       "      <td>2018-04-11</td>\n",
       "      <td>2018-06-12</td>\n",
       "      <td>16711</td>\n",
       "      <td>0.4</td>\n",
       "    </tr>\n",
       "    <tr>\n",
       "      <th>0</th>\n",
       "      <td>0.565958</td>\n",
       "      <td>0.775002</td>\n",
       "      <td>16</td>\n",
       "      <td>2</td>\n",
       "      <td>2017-02-01</td>\n",
       "      <td>2018-03-11</td>\n",
       "      <td>19440</td>\n",
       "      <td>2018-04-11</td>\n",
       "      <td>2018-06-12</td>\n",
       "      <td>16711</td>\n",
       "      <td>0.4</td>\n",
       "    </tr>\n",
       "    <tr>\n",
       "      <th>0</th>\n",
       "      <td>0.562612</td>\n",
       "      <td>0.773501</td>\n",
       "      <td>17</td>\n",
       "      <td>2</td>\n",
       "      <td>2017-02-01</td>\n",
       "      <td>2018-03-11</td>\n",
       "      <td>19440</td>\n",
       "      <td>2018-04-11</td>\n",
       "      <td>2018-06-12</td>\n",
       "      <td>16711</td>\n",
       "      <td>0.4</td>\n",
       "    </tr>\n",
       "    <tr>\n",
       "      <th>0</th>\n",
       "      <td>0.593950</td>\n",
       "      <td>0.789789</td>\n",
       "      <td>15</td>\n",
       "      <td>3</td>\n",
       "      <td>2017-02-01</td>\n",
       "      <td>2018-03-11</td>\n",
       "      <td>28068</td>\n",
       "      <td>2018-04-11</td>\n",
       "      <td>2018-06-12</td>\n",
       "      <td>16711</td>\n",
       "      <td>0.6</td>\n",
       "    </tr>\n",
       "    <tr>\n",
       "      <th>0</th>\n",
       "      <td>0.572617</td>\n",
       "      <td>0.777124</td>\n",
       "      <td>16</td>\n",
       "      <td>3</td>\n",
       "      <td>2017-02-01</td>\n",
       "      <td>2018-03-11</td>\n",
       "      <td>28068</td>\n",
       "      <td>2018-04-11</td>\n",
       "      <td>2018-06-12</td>\n",
       "      <td>16711</td>\n",
       "      <td>0.6</td>\n",
       "    </tr>\n",
       "    <tr>\n",
       "      <th>0</th>\n",
       "      <td>0.567864</td>\n",
       "      <td>0.775599</td>\n",
       "      <td>17</td>\n",
       "      <td>3</td>\n",
       "      <td>2017-02-01</td>\n",
       "      <td>2018-03-11</td>\n",
       "      <td>28068</td>\n",
       "      <td>2018-04-11</td>\n",
       "      <td>2018-06-12</td>\n",
       "      <td>16711</td>\n",
       "      <td>0.6</td>\n",
       "    </tr>\n",
       "    <tr>\n",
       "      <th>0</th>\n",
       "      <td>0.597177</td>\n",
       "      <td>0.790955</td>\n",
       "      <td>15</td>\n",
       "      <td>4</td>\n",
       "      <td>2017-02-01</td>\n",
       "      <td>2018-03-11</td>\n",
       "      <td>34682</td>\n",
       "      <td>2018-04-11</td>\n",
       "      <td>2018-06-12</td>\n",
       "      <td>16711</td>\n",
       "      <td>0.8</td>\n",
       "    </tr>\n",
       "    <tr>\n",
       "      <th>0</th>\n",
       "      <td>0.577139</td>\n",
       "      <td>0.780944</td>\n",
       "      <td>16</td>\n",
       "      <td>4</td>\n",
       "      <td>2017-02-01</td>\n",
       "      <td>2018-03-11</td>\n",
       "      <td>34682</td>\n",
       "      <td>2018-04-11</td>\n",
       "      <td>2018-06-12</td>\n",
       "      <td>16711</td>\n",
       "      <td>0.8</td>\n",
       "    </tr>\n",
       "    <tr>\n",
       "      <th>0</th>\n",
       "      <td>0.570256</td>\n",
       "      <td>0.776765</td>\n",
       "      <td>17</td>\n",
       "      <td>4</td>\n",
       "      <td>2017-02-01</td>\n",
       "      <td>2018-03-11</td>\n",
       "      <td>34682</td>\n",
       "      <td>2018-04-11</td>\n",
       "      <td>2018-06-12</td>\n",
       "      <td>16711</td>\n",
       "      <td>0.8</td>\n",
       "    </tr>\n",
       "    <tr>\n",
       "      <th>0</th>\n",
       "      <td>0.597451</td>\n",
       "      <td>0.791407</td>\n",
       "      <td>15</td>\n",
       "      <td>5</td>\n",
       "      <td>2017-02-01</td>\n",
       "      <td>2018-03-11</td>\n",
       "      <td>36681</td>\n",
       "      <td>2018-04-11</td>\n",
       "      <td>2018-06-12</td>\n",
       "      <td>16711</td>\n",
       "      <td>1.0</td>\n",
       "    </tr>\n",
       "    <tr>\n",
       "      <th>0</th>\n",
       "      <td>0.575909</td>\n",
       "      <td>0.779593</td>\n",
       "      <td>16</td>\n",
       "      <td>5</td>\n",
       "      <td>2017-02-01</td>\n",
       "      <td>2018-03-11</td>\n",
       "      <td>36681</td>\n",
       "      <td>2018-04-11</td>\n",
       "      <td>2018-06-12</td>\n",
       "      <td>16711</td>\n",
       "      <td>1.0</td>\n",
       "    </tr>\n",
       "    <tr>\n",
       "      <th>0</th>\n",
       "      <td>0.570274</td>\n",
       "      <td>0.777338</td>\n",
       "      <td>17</td>\n",
       "      <td>5</td>\n",
       "      <td>2017-02-01</td>\n",
       "      <td>2018-03-11</td>\n",
       "      <td>36681</td>\n",
       "      <td>2018-04-11</td>\n",
       "      <td>2018-06-12</td>\n",
       "      <td>16711</td>\n",
       "      <td>1.0</td>\n",
       "    </tr>\n",
       "  </tbody>\n",
       "</table>\n",
       "</div>"
      ],
      "text/plain": [
       "   r2_evaluator__target  spearman_evaluator__target  split_evaluator__month  \\\n",
       "0              0.540541                    0.758164                      15   \n",
       "0              0.514314                    0.743269                      16   \n",
       "0              0.507848                    0.743218                      17   \n",
       "0              0.566848                    0.774746                      15   \n",
       "0              0.543697                    0.761993                      16   \n",
       "0              0.539739                    0.762033                      17   \n",
       "0              0.586378                    0.786420                      15   \n",
       "0              0.565958                    0.775002                      16   \n",
       "0              0.562612                    0.773501                      17   \n",
       "0              0.593950                    0.789789                      15   \n",
       "0              0.572617                    0.777124                      16   \n",
       "0              0.567864                    0.775599                      17   \n",
       "0              0.597177                    0.790955                      15   \n",
       "0              0.577139                    0.780944                      16   \n",
       "0              0.570256                    0.776765                      17   \n",
       "0              0.597451                    0.791407                      15   \n",
       "0              0.575909                    0.779593                      16   \n",
       "0              0.570274                    0.777338                      17   \n",
       "\n",
       "   fold_num train_start  train_end  train_size test_start   test_end  \\\n",
       "0         0  2017-02-01 2018-03-11        5094 2018-04-11 2018-06-12   \n",
       "0         0  2017-02-01 2018-03-11        5094 2018-04-11 2018-06-12   \n",
       "0         0  2017-02-01 2018-03-11        5094 2018-04-11 2018-06-12   \n",
       "0         1  2017-02-01 2018-03-11        9987 2018-04-11 2018-06-12   \n",
       "0         1  2017-02-01 2018-03-11        9987 2018-04-11 2018-06-12   \n",
       "0         1  2017-02-01 2018-03-11        9987 2018-04-11 2018-06-12   \n",
       "0         2  2017-02-01 2018-03-11       19440 2018-04-11 2018-06-12   \n",
       "0         2  2017-02-01 2018-03-11       19440 2018-04-11 2018-06-12   \n",
       "0         2  2017-02-01 2018-03-11       19440 2018-04-11 2018-06-12   \n",
       "0         3  2017-02-01 2018-03-11       28068 2018-04-11 2018-06-12   \n",
       "0         3  2017-02-01 2018-03-11       28068 2018-04-11 2018-06-12   \n",
       "0         3  2017-02-01 2018-03-11       28068 2018-04-11 2018-06-12   \n",
       "0         4  2017-02-01 2018-03-11       34682 2018-04-11 2018-06-12   \n",
       "0         4  2017-02-01 2018-03-11       34682 2018-04-11 2018-06-12   \n",
       "0         4  2017-02-01 2018-03-11       34682 2018-04-11 2018-06-12   \n",
       "0         5  2017-02-01 2018-03-11       36681 2018-04-11 2018-06-12   \n",
       "0         5  2017-02-01 2018-03-11       36681 2018-04-11 2018-06-12   \n",
       "0         5  2017-02-01 2018-03-11       36681 2018-04-11 2018-06-12   \n",
       "\n",
       "   test_size  percentage  \n",
       "0      16711         0.1  \n",
       "0      16711         0.1  \n",
       "0      16711         0.1  \n",
       "0      16711         0.2  \n",
       "0      16711         0.2  \n",
       "0      16711         0.2  \n",
       "0      16711         0.4  \n",
       "0      16711         0.4  \n",
       "0      16711         0.4  \n",
       "0      16711         0.6  \n",
       "0      16711         0.6  \n",
       "0      16711         0.6  \n",
       "0      16711         0.8  \n",
       "0      16711         0.8  \n",
       "0      16711         0.8  \n",
       "0      16711         1.0  \n",
       "0      16711         1.0  \n",
       "0      16711         1.0  "
      ]
     },
     "execution_count": 42,
     "metadata": {},
     "output_type": "execute_result"
    }
   ],
   "source": [
    "monthly_data"
   ]
  },
  {
   "cell_type": "code",
   "execution_count": 43,
   "metadata": {
    "ExecuteTime": {
     "end_time": "2019-06-26T14:38:45.764006Z",
     "start_time": "2019-06-26T14:38:45.506718Z"
    },
    "slideshow": {
     "slide_type": "slide"
    }
   },
   "outputs": [
    {
     "data": {
      "image/png": "[encoded data removed]",
      "text/plain": [
       "<Figure size 720x576 with 1 Axes>"
      ]
     },
     "metadata": {
      "needs_background": "light"
     },
     "output_type": "display_data"
    }
   ],
   "source": [
    "fig, ax = plt.subplots(figsize=(10, 8))\n",
    "sns.pointplot(data=monthly_data, ax=ax, x=\"percentage\", y=\"r2_evaluator__target\", hue=\"split_evaluator__month\")\n",
    "plt.title(\"Spatial Learning Curve By Month\")\n",
    "plt.xticks(rotation=45);"
   ]
  },
  {
   "cell_type": "markdown",
   "metadata": {
    "slideshow": {
     "slide_type": "slide"
    }
   },
   "source": [
    "# What else does fklearn provide me?\n",
    "\n",
    "* <font size=\"4\"> Several other **learning curves** that can be used depending on what you want to evaluate </font>\n",
    "\n",
    "\n",
    "* <font size=\"4\"> Several other **algorithms** for models </font>\n",
    "\n",
    "\n",
    "* <font size=\"4\"> Other tools with similar interface for **feature selection, parameter tuning** </font>\n",
    "\n",
    "\n",
    "* <font size=\"4\"> All this methods are integrated with similar signatures in a way that is easy to reuse training, spliting and evaluation functions </font>\n",
    "\n"
   ]
  },
  {
   "cell_type": "markdown",
   "metadata": {},
   "source": [
    "# Learn more:\n",
    "\n",
    "<font size=\"4\"> \n",
    "1. Medium blog post: https://medium.com/building-nubank/   \n",
    "    \n",
    "2. Documentation: https://fklearn.readthedocs.io/ </font>\n"
   ]
  }
 ],
 "metadata": {
  "kernelspec": {
   "display_name": "Python 3",
   "language": "python",
   "name": "python3"
  },
  "language_info": {
   "codemirror_mode": {
    "name": "ipython",
    "version": 3
   },
   "file_extension": ".py",
   "mimetype": "text/x-python",
   "name": "python",
   "nbconvert_exporter": "python",
   "pygments_lexer": "ipython3",
   "version": "3.6.8"
  },
  "toc": {
   "base_numbering": 1,
   "nav_menu": {},
   "number_sections": true,
   "sideBar": true,
   "skip_h1_title": false,
   "title_cell": "Table of Contents",
   "title_sidebar": "Contents",
   "toc_cell": false,
   "toc_position": {},
   "toc_section_display": true,
   "toc_window_display": false
  }
 },
 "nbformat": 4,
 "nbformat_minor": 2
}
